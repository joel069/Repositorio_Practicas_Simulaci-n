{
 "cells": [
  {
   "cell_type": "markdown",
   "metadata": {},
   "source": [
    "# EXAMEN INTERCICLO SIMULACIÓN"
   ]
  },
  {
   "cell_type": "markdown",
   "metadata": {},
   "source": [
    "### VÁSQUEZ FAJARDO FRANKLIN JOEL"
   ]
  },
  {
   "cell_type": "code",
   "execution_count": 40,
   "metadata": {},
   "outputs": [
    {
     "name": "stdout",
     "output_type": "stream",
     "text": [
      "Librerias Importadas\n"
     ]
    }
   ],
   "source": [
    "import pandas as pd\n",
    "import numpy as np\n",
    "import altair as alt\n",
    "from mpl_toolkits.mplot3d import Axes3D\n",
    "import matplotlib.pyplot as plt\n",
    "from sklearn import preprocessing, linear_model\n",
    "print('Librerias Importadas')"
   ]
  },
  {
   "cell_type": "code",
   "execution_count": 41,
   "metadata": {},
   "outputs": [
    {
     "data": {
      "text/html": [
       "<div>\n",
       "<style scoped>\n",
       "    .dataframe tbody tr th:only-of-type {\n",
       "        vertical-align: middle;\n",
       "    }\n",
       "\n",
       "    .dataframe tbody tr th {\n",
       "        vertical-align: top;\n",
       "    }\n",
       "\n",
       "    .dataframe thead th {\n",
       "        text-align: right;\n",
       "    }\n",
       "</style>\n",
       "<table border=\"1\" class=\"dataframe\">\n",
       "  <thead>\n",
       "    <tr style=\"text-align: right;\">\n",
       "      <th></th>\n",
       "      <th>username</th>\n",
       "      <th>comment</th>\n",
       "      <th>reply</th>\n",
       "      <th>retweet</th>\n",
       "      <th>like</th>\n",
       "    </tr>\n",
       "  </thead>\n",
       "  <tbody>\n",
       "    <tr>\n",
       "      <th>0</th>\n",
       "      <td>Presidencia ECU</td>\n",
       "      <td>El presidente \\n@LassoGuillermo\\n, durante su ...</td>\n",
       "      <td>166</td>\n",
       "      <td>556</td>\n",
       "      <td>4.5K</td>\n",
       "    </tr>\n",
       "    <tr>\n",
       "      <th>1</th>\n",
       "      <td>Guillermo Lasso</td>\n",
       "      <td>Hoy tuve la oportunidad de dialogar con \\n@leo...</td>\n",
       "      <td>581</td>\n",
       "      <td>874</td>\n",
       "      <td>4.2K</td>\n",
       "    </tr>\n",
       "    <tr>\n",
       "      <th>2</th>\n",
       "      <td>Guillermo Lasso</td>\n",
       "      <td>Fue un honor recibir a representantes de \\n@US...</td>\n",
       "      <td>207</td>\n",
       "      <td>638</td>\n",
       "      <td>2.8K</td>\n",
       "    </tr>\n",
       "    <tr>\n",
       "      <th>3</th>\n",
       "      <td>Guillermo Lasso</td>\n",
       "      <td>Esta noche mantuvimos la primera reunión del C...</td>\n",
       "      <td>368</td>\n",
       "      <td>1.1K</td>\n",
       "      <td>5.8K</td>\n",
       "    </tr>\n",
       "    <tr>\n",
       "      <th>4</th>\n",
       "      <td>Guillermo Lasso</td>\n",
       "      <td>El Decreto que elimina los registros de crédit...</td>\n",
       "      <td>256</td>\n",
       "      <td>875</td>\n",
       "      <td>3.5K</td>\n",
       "    </tr>\n",
       "    <tr>\n",
       "      <th>5</th>\n",
       "      <td>Guillermo Lasso</td>\n",
       "      <td>El #GobiernoDelEncuentro, a su servicio. \\n\\n#...</td>\n",
       "      <td>375</td>\n",
       "      <td>1.3K</td>\n",
       "      <td>8.8K</td>\n",
       "    </tr>\n",
       "    <tr>\n",
       "      <th>6</th>\n",
       "      <td>Guillermo Lasso</td>\n",
       "      <td>Empieza el cambio, bienvenidos al Ecuador del ...</td>\n",
       "      <td>1.1K</td>\n",
       "      <td>5.7K</td>\n",
       "      <td>26.3K</td>\n",
       "    </tr>\n",
       "    <tr>\n",
       "      <th>7</th>\n",
       "      <td>Guillermo Lasso</td>\n",
       "      <td>“Este 24 de mayo de 2021, empezamos a construi...</td>\n",
       "      <td>125</td>\n",
       "      <td>620</td>\n",
       "      <td>3.6K</td>\n",
       "    </tr>\n",
       "    <tr>\n",
       "      <th>8</th>\n",
       "      <td>Guillermo Lasso</td>\n",
       "      <td>En el Gobierno del encuentro, \\n@MarceloHCabre...</td>\n",
       "      <td>234</td>\n",
       "      <td>337</td>\n",
       "      <td>1.9K</td>\n",
       "    </tr>\n",
       "    <tr>\n",
       "      <th>9</th>\n",
       "      <td>Guillermo Lasso</td>\n",
       "      <td>El Secretario General de Comunicación será \\n@...</td>\n",
       "      <td>160</td>\n",
       "      <td>281</td>\n",
       "      <td>1.5K</td>\n",
       "    </tr>\n",
       "  </tbody>\n",
       "</table>\n",
       "</div>"
      ],
      "text/plain": [
       "          username                                            comment reply  \\\n",
       "0  Presidencia ECU  El presidente \\n@LassoGuillermo\\n, durante su ...   166   \n",
       "1  Guillermo Lasso  Hoy tuve la oportunidad de dialogar con \\n@leo...   581   \n",
       "2  Guillermo Lasso  Fue un honor recibir a representantes de \\n@US...   207   \n",
       "3  Guillermo Lasso  Esta noche mantuvimos la primera reunión del C...   368   \n",
       "4  Guillermo Lasso  El Decreto que elimina los registros de crédit...   256   \n",
       "5  Guillermo Lasso  El #GobiernoDelEncuentro, a su servicio. \\n\\n#...   375   \n",
       "6  Guillermo Lasso  Empieza el cambio, bienvenidos al Ecuador del ...  1.1K   \n",
       "7  Guillermo Lasso  “Este 24 de mayo de 2021, empezamos a construi...   125   \n",
       "8  Guillermo Lasso  En el Gobierno del encuentro, \\n@MarceloHCabre...   234   \n",
       "9  Guillermo Lasso  El Secretario General de Comunicación será \\n@...   160   \n",
       "\n",
       "  retweet   like  \n",
       "0     556   4.5K  \n",
       "1     874   4.2K  \n",
       "2     638   2.8K  \n",
       "3    1.1K   5.8K  \n",
       "4     875   3.5K  \n",
       "5    1.3K   8.8K  \n",
       "6    5.7K  26.3K  \n",
       "7     620   3.6K  \n",
       "8     337   1.9K  \n",
       "9     281   1.5K  "
      ]
     },
     "execution_count": 41,
     "metadata": {},
     "output_type": "execute_result"
    }
   ],
   "source": [
    "#Lectura dataset.\n",
    "df = pd.read_csv('./examen.csv')\n",
    "df.head(10)"
   ]
  },
  {
   "cell_type": "markdown",
   "metadata": {},
   "source": [
    "## Limpieza y Obtención de datos netamente necesarios."
   ]
  },
  {
   "cell_type": "markdown",
   "metadata": {},
   "source": [
    "A continuacion realizaremos la limpieza  de nuestros datos , esto ya que se verifico que los datos vienen con simbologia y no convertidos en numeros, en este caso vamos a transformar a numeros las columnas que usaremos durante nuestro proceso."
   ]
  },
  {
   "cell_type": "code",
   "execution_count": 42,
   "metadata": {},
   "outputs": [
    {
     "data": {
      "text/html": [
       "<div>\n",
       "<style scoped>\n",
       "    .dataframe tbody tr th:only-of-type {\n",
       "        vertical-align: middle;\n",
       "    }\n",
       "\n",
       "    .dataframe tbody tr th {\n",
       "        vertical-align: top;\n",
       "    }\n",
       "\n",
       "    .dataframe thead th {\n",
       "        text-align: right;\n",
       "    }\n",
       "</style>\n",
       "<table border=\"1\" class=\"dataframe\">\n",
       "  <thead>\n",
       "    <tr style=\"text-align: right;\">\n",
       "      <th></th>\n",
       "      <th>username</th>\n",
       "      <th>comment</th>\n",
       "      <th>reply</th>\n",
       "      <th>retweet</th>\n",
       "      <th>like</th>\n",
       "    </tr>\n",
       "  </thead>\n",
       "  <tbody>\n",
       "    <tr>\n",
       "      <th>0</th>\n",
       "      <td>Presidencia ECU</td>\n",
       "      <td>El presidente \\n@LassoGuillermo\\n, durante su ...</td>\n",
       "      <td>166</td>\n",
       "      <td>556.0</td>\n",
       "      <td>4500.0</td>\n",
       "    </tr>\n",
       "    <tr>\n",
       "      <th>1</th>\n",
       "      <td>Guillermo Lasso</td>\n",
       "      <td>Hoy tuve la oportunidad de dialogar con \\n@leo...</td>\n",
       "      <td>581</td>\n",
       "      <td>874.0</td>\n",
       "      <td>4200.0</td>\n",
       "    </tr>\n",
       "    <tr>\n",
       "      <th>2</th>\n",
       "      <td>Guillermo Lasso</td>\n",
       "      <td>Fue un honor recibir a representantes de \\n@US...</td>\n",
       "      <td>207</td>\n",
       "      <td>638.0</td>\n",
       "      <td>2800.0</td>\n",
       "    </tr>\n",
       "    <tr>\n",
       "      <th>3</th>\n",
       "      <td>Guillermo Lasso</td>\n",
       "      <td>Esta noche mantuvimos la primera reunión del C...</td>\n",
       "      <td>368</td>\n",
       "      <td>1100.0</td>\n",
       "      <td>5800.0</td>\n",
       "    </tr>\n",
       "    <tr>\n",
       "      <th>4</th>\n",
       "      <td>Guillermo Lasso</td>\n",
       "      <td>El Decreto que elimina los registros de crédit...</td>\n",
       "      <td>256</td>\n",
       "      <td>875.0</td>\n",
       "      <td>3500.0</td>\n",
       "    </tr>\n",
       "    <tr>\n",
       "      <th>5</th>\n",
       "      <td>Guillermo Lasso</td>\n",
       "      <td>El #GobiernoDelEncuentro, a su servicio. \\n\\n#...</td>\n",
       "      <td>375</td>\n",
       "      <td>1300.0</td>\n",
       "      <td>8800.0</td>\n",
       "    </tr>\n",
       "    <tr>\n",
       "      <th>6</th>\n",
       "      <td>Guillermo Lasso</td>\n",
       "      <td>Empieza el cambio, bienvenidos al Ecuador del ...</td>\n",
       "      <td>1.1K</td>\n",
       "      <td>5700.0</td>\n",
       "      <td>26300.0</td>\n",
       "    </tr>\n",
       "    <tr>\n",
       "      <th>7</th>\n",
       "      <td>Guillermo Lasso</td>\n",
       "      <td>“Este 24 de mayo de 2021, empezamos a construi...</td>\n",
       "      <td>125</td>\n",
       "      <td>620.0</td>\n",
       "      <td>3600.0</td>\n",
       "    </tr>\n",
       "    <tr>\n",
       "      <th>8</th>\n",
       "      <td>Guillermo Lasso</td>\n",
       "      <td>En el Gobierno del encuentro, \\n@MarceloHCabre...</td>\n",
       "      <td>234</td>\n",
       "      <td>337.0</td>\n",
       "      <td>1900.0</td>\n",
       "    </tr>\n",
       "    <tr>\n",
       "      <th>9</th>\n",
       "      <td>Guillermo Lasso</td>\n",
       "      <td>El Secretario General de Comunicación será \\n@...</td>\n",
       "      <td>160</td>\n",
       "      <td>281.0</td>\n",
       "      <td>1500.0</td>\n",
       "    </tr>\n",
       "  </tbody>\n",
       "</table>\n",
       "</div>"
      ],
      "text/plain": [
       "          username                                            comment reply  \\\n",
       "0  Presidencia ECU  El presidente \\n@LassoGuillermo\\n, durante su ...   166   \n",
       "1  Guillermo Lasso  Hoy tuve la oportunidad de dialogar con \\n@leo...   581   \n",
       "2  Guillermo Lasso  Fue un honor recibir a representantes de \\n@US...   207   \n",
       "3  Guillermo Lasso  Esta noche mantuvimos la primera reunión del C...   368   \n",
       "4  Guillermo Lasso  El Decreto que elimina los registros de crédit...   256   \n",
       "5  Guillermo Lasso  El #GobiernoDelEncuentro, a su servicio. \\n\\n#...   375   \n",
       "6  Guillermo Lasso  Empieza el cambio, bienvenidos al Ecuador del ...  1.1K   \n",
       "7  Guillermo Lasso  “Este 24 de mayo de 2021, empezamos a construi...   125   \n",
       "8  Guillermo Lasso  En el Gobierno del encuentro, \\n@MarceloHCabre...   234   \n",
       "9  Guillermo Lasso  El Secretario General de Comunicación será \\n@...   160   \n",
       "\n",
       "   retweet     like  \n",
       "0    556.0   4500.0  \n",
       "1    874.0   4200.0  \n",
       "2    638.0   2800.0  \n",
       "3   1100.0   5800.0  \n",
       "4    875.0   3500.0  \n",
       "5   1300.0   8800.0  \n",
       "6   5700.0  26300.0  \n",
       "7    620.0   3600.0  \n",
       "8    337.0   1900.0  \n",
       "9    281.0   1500.0  "
      ]
     },
     "execution_count": 42,
     "metadata": {},
     "output_type": "execute_result"
    }
   ],
   "source": [
    "df.like = (df.like.replace(r'[KM]+$', '', regex=True).astype(float) * \\\n",
    "              df.like.str.extract(r'[\\d\\.]+([KM]+)', expand=False)\n",
    "                .fillna(1)\n",
    "                .replace(['K','M'], [10**3, 10**6]).astype(int))\n",
    "\n",
    "df.retweet = (df.retweet.replace(r'[KM]+$', '', regex=True).astype(float) * \\\n",
    "             df.retweet.str.extract(r'[\\d\\.]+([KM]+)', expand=False)\n",
    "                .fillna(1)\n",
    "                .replace(['K','M'], [10**3, 10**6]).astype(int))\n",
    "\n",
    "df.head(10)"
   ]
  },
  {
   "cell_type": "markdown",
   "metadata": {},
   "source": [
    "## Conteo de datos  "
   ]
  },
  {
   "cell_type": "markdown",
   "metadata": {},
   "source": [
    "Procederemos a realizar un conteo de todos nuestros datos , en este caso usaremos como referencia la longitud del tweet , \n",
    "las etiquetas y las referenciass que se han realizado, luego de esto añadiremos dichas columnas a nuestro \n",
    "dataframe para trabajar con dichos datos."
   ]
  },
  {
   "cell_type": "code",
   "execution_count": 95,
   "metadata": {},
   "outputs": [],
   "source": [
    "def color_negative_red(val):\n",
    "    \"\"\"\n",
    "    Takes a scalar and returns a string with\n",
    "    the css property `'color: red'` for negative\n",
    "    strings, black otherwise.\n",
    "    \"\"\"\n",
    "    color = 'red' if val > 0 else 'black'\n",
    "    return 'color: %s' % color"
   ]
  },
  {
   "cell_type": "code",
   "execution_count": 120,
   "metadata": {},
   "outputs": [
    {
     "data": {
      "text/html": [
       "<div>\n",
       "<style scoped>\n",
       "    .dataframe tbody tr th:only-of-type {\n",
       "        vertical-align: middle;\n",
       "    }\n",
       "\n",
       "    .dataframe tbody tr th {\n",
       "        vertical-align: top;\n",
       "    }\n",
       "\n",
       "    .dataframe thead th {\n",
       "        text-align: right;\n",
       "    }\n",
       "</style>\n",
       "<table border=\"1\" class=\"dataframe\">\n",
       "  <thead>\n",
       "    <tr style=\"text-align: right;\">\n",
       "      <th></th>\n",
       "      <th>username</th>\n",
       "      <th>comment</th>\n",
       "      <th>reply</th>\n",
       "      <th>retweet</th>\n",
       "      <th>like</th>\n",
       "      <th>etiquetas</th>\n",
       "      <th>longitd</th>\n",
       "      <th>referencias</th>\n",
       "    </tr>\n",
       "  </thead>\n",
       "  <tbody>\n",
       "    <tr>\n",
       "      <th>0</th>\n",
       "      <td>Presidencia ECU</td>\n",
       "      <td>El presidente \\n@LassoGuillermo\\n, durante su ...</td>\n",
       "      <td>166</td>\n",
       "      <td>556.0</td>\n",
       "      <td>4500.0</td>\n",
       "      <td>1</td>\n",
       "      <td>233</td>\n",
       "      <td>1</td>\n",
       "    </tr>\n",
       "    <tr>\n",
       "      <th>1</th>\n",
       "      <td>Guillermo Lasso</td>\n",
       "      <td>Hoy tuve la oportunidad de dialogar con \\n@leo...</td>\n",
       "      <td>581</td>\n",
       "      <td>874.0</td>\n",
       "      <td>4200.0</td>\n",
       "      <td>2</td>\n",
       "      <td>272</td>\n",
       "      <td>2</td>\n",
       "    </tr>\n",
       "    <tr>\n",
       "      <th>2</th>\n",
       "      <td>Guillermo Lasso</td>\n",
       "      <td>Fue un honor recibir a representantes de \\n@US...</td>\n",
       "      <td>207</td>\n",
       "      <td>638.0</td>\n",
       "      <td>2800.0</td>\n",
       "      <td>2</td>\n",
       "      <td>282</td>\n",
       "      <td>2</td>\n",
       "    </tr>\n",
       "    <tr>\n",
       "      <th>3</th>\n",
       "      <td>Guillermo Lasso</td>\n",
       "      <td>Esta noche mantuvimos la primera reunión del C...</td>\n",
       "      <td>368</td>\n",
       "      <td>1100.0</td>\n",
       "      <td>5800.0</td>\n",
       "      <td>1</td>\n",
       "      <td>277</td>\n",
       "      <td>0</td>\n",
       "    </tr>\n",
       "    <tr>\n",
       "      <th>4</th>\n",
       "      <td>Guillermo Lasso</td>\n",
       "      <td>El Decreto que elimina los registros de crédit...</td>\n",
       "      <td>256</td>\n",
       "      <td>875.0</td>\n",
       "      <td>3500.0</td>\n",
       "      <td>2</td>\n",
       "      <td>266</td>\n",
       "      <td>0</td>\n",
       "    </tr>\n",
       "    <tr>\n",
       "      <th>5</th>\n",
       "      <td>Guillermo Lasso</td>\n",
       "      <td>El #GobiernoDelEncuentro, a su servicio. \\n\\n#...</td>\n",
       "      <td>375</td>\n",
       "      <td>1300.0</td>\n",
       "      <td>8800.0</td>\n",
       "      <td>2</td>\n",
       "      <td>60</td>\n",
       "      <td>0</td>\n",
       "    </tr>\n",
       "    <tr>\n",
       "      <th>6</th>\n",
       "      <td>Guillermo Lasso</td>\n",
       "      <td>Empieza el cambio, bienvenidos al Ecuador del ...</td>\n",
       "      <td>1.1K</td>\n",
       "      <td>5700.0</td>\n",
       "      <td>26300.0</td>\n",
       "      <td>2</td>\n",
       "      <td>118</td>\n",
       "      <td>0</td>\n",
       "    </tr>\n",
       "    <tr>\n",
       "      <th>7</th>\n",
       "      <td>Guillermo Lasso</td>\n",
       "      <td>“Este 24 de mayo de 2021, empezamos a construi...</td>\n",
       "      <td>125</td>\n",
       "      <td>620.0</td>\n",
       "      <td>3600.0</td>\n",
       "      <td>1</td>\n",
       "      <td>278</td>\n",
       "      <td>1</td>\n",
       "    </tr>\n",
       "    <tr>\n",
       "      <th>8</th>\n",
       "      <td>Guillermo Lasso</td>\n",
       "      <td>En el Gobierno del encuentro, \\n@MarceloHCabre...</td>\n",
       "      <td>234</td>\n",
       "      <td>337.0</td>\n",
       "      <td>1900.0</td>\n",
       "      <td>0</td>\n",
       "      <td>267</td>\n",
       "      <td>1</td>\n",
       "    </tr>\n",
       "    <tr>\n",
       "      <th>9</th>\n",
       "      <td>Guillermo Lasso</td>\n",
       "      <td>El Secretario General de Comunicación será \\n@...</td>\n",
       "      <td>160</td>\n",
       "      <td>281.0</td>\n",
       "      <td>1500.0</td>\n",
       "      <td>0</td>\n",
       "      <td>270</td>\n",
       "      <td>1</td>\n",
       "    </tr>\n",
       "  </tbody>\n",
       "</table>\n",
       "</div>"
      ],
      "text/plain": [
       "          username                                            comment reply  \\\n",
       "0  Presidencia ECU  El presidente \\n@LassoGuillermo\\n, durante su ...   166   \n",
       "1  Guillermo Lasso  Hoy tuve la oportunidad de dialogar con \\n@leo...   581   \n",
       "2  Guillermo Lasso  Fue un honor recibir a representantes de \\n@US...   207   \n",
       "3  Guillermo Lasso  Esta noche mantuvimos la primera reunión del C...   368   \n",
       "4  Guillermo Lasso  El Decreto que elimina los registros de crédit...   256   \n",
       "5  Guillermo Lasso  El #GobiernoDelEncuentro, a su servicio. \\n\\n#...   375   \n",
       "6  Guillermo Lasso  Empieza el cambio, bienvenidos al Ecuador del ...  1.1K   \n",
       "7  Guillermo Lasso  “Este 24 de mayo de 2021, empezamos a construi...   125   \n",
       "8  Guillermo Lasso  En el Gobierno del encuentro, \\n@MarceloHCabre...   234   \n",
       "9  Guillermo Lasso  El Secretario General de Comunicación será \\n@...   160   \n",
       "\n",
       "   retweet     like  etiquetas  longitd  referencias  \n",
       "0    556.0   4500.0          1      233            1  \n",
       "1    874.0   4200.0          2      272            2  \n",
       "2    638.0   2800.0          2      282            2  \n",
       "3   1100.0   5800.0          1      277            0  \n",
       "4    875.0   3500.0          2      266            0  \n",
       "5   1300.0   8800.0          2       60            0  \n",
       "6   5700.0  26300.0          2      118            0  \n",
       "7    620.0   3600.0          1      278            1  \n",
       "8    337.0   1900.0          0      267            1  \n",
       "9    281.0   1500.0          0      270            1  "
      ]
     },
     "execution_count": 120,
     "metadata": {},
     "output_type": "execute_result"
    }
   ],
   "source": [
    "df['etiquetas'] = df.comment.apply(lambda x: str(x).count('#'))\n",
    "df['longitd'] = df.comment.apply(lambda x: len(str(x)))\n",
    "df['referencias'] = df.comment.apply(lambda x: str(x).count('@'))  \n",
    "df.head(10)"
   ]
  },
  {
   "cell_type": "code",
   "execution_count": 129,
   "metadata": {},
   "outputs": [
    {
     "data": {
      "text/plain": [
       "(250,)"
      ]
     },
     "execution_count": 129,
     "metadata": {},
     "output_type": "execute_result"
    }
   ],
   "source": [
    "#Grafica\n",
    "df.referencias.shape"
   ]
  },
  {
   "cell_type": "code",
   "execution_count": 138,
   "metadata": {},
   "outputs": [
    {
     "ename": "SyntaxError",
     "evalue": "invalid syntax (<ipython-input-138-6bb644debdbb>, line 3)",
     "output_type": "error",
     "traceback": [
      "\u001b[1;36m  File \u001b[1;32m\"<ipython-input-138-6bb644debdbb>\"\u001b[1;36m, line \u001b[1;32m3\u001b[0m\n\u001b[1;33m    graf.contour3D(list(df.longitd), list(df.referencias), ,cmap='binary', c='b' )\u001b[0m\n\u001b[1;37m                                                           ^\u001b[0m\n\u001b[1;31mSyntaxError\u001b[0m\u001b[1;31m:\u001b[0m invalid syntax\n"
     ]
    }
   ],
   "source": [
    "grafica = plt.figure(figsize=(9,9))\n",
    "graf = Axes3D(grafica)\n",
    "graf.contour3D(list(df.longitd), list(df.referencias), ,cmap='binary', c='b' )\n",
    "graf.contour3D(list(df.like), list(df.referencias),, cmap='binary',c='b' )\n",
    "#graf.scatter(list(df.longitd), list(df.referencias), y, c='g', marker='*')\n",
    "graf.view_init(elev=8, azim=15)\n",
    "graf.set_zlabel('Retweets')\n",
    "graf.set_ylabel('Etiquetas')\n",
    "graf.set_xlabel('Longitud')\n",
    "plt.show()"
   ]
  },
  {
   "cell_type": "markdown",
   "metadata": {},
   "source": [
    "## Modelo de Regresión Lineal"
   ]
  },
  {
   "cell_type": "code",
   "execution_count": 45,
   "metadata": {},
   "outputs": [],
   "source": [
    "X = df[['longitd', 'referencias']]\n",
    "y = df['retweet']"
   ]
  },
  {
   "cell_type": "code",
   "execution_count": 46,
   "metadata": {},
   "outputs": [
    {
     "data": {
      "text/plain": [
       "LinearRegression()"
      ]
     },
     "execution_count": 46,
     "metadata": {},
     "output_type": "execute_result"
    }
   ],
   "source": [
    "lineal = linear_model.LinearRegression()\n",
    "lineal.fit(X, y)"
   ]
  },
  {
   "cell_type": "code",
   "execution_count": 47,
   "metadata": {},
   "outputs": [
    {
     "data": {
      "text/plain": [
       "array([111.02791216])"
      ]
     },
     "execution_count": 47,
     "metadata": {},
     "output_type": "execute_result"
    }
   ],
   "source": [
    "lineal.predict([[400,7]])"
   ]
  },
  {
   "cell_type": "code",
   "execution_count": 65,
   "metadata": {},
   "outputs": [
    {
     "data": {
      "text/html": [
       "<div>\n",
       "<style scoped>\n",
       "    .dataframe tbody tr th:only-of-type {\n",
       "        vertical-align: middle;\n",
       "    }\n",
       "\n",
       "    .dataframe tbody tr th {\n",
       "        vertical-align: top;\n",
       "    }\n",
       "\n",
       "    .dataframe thead th {\n",
       "        text-align: right;\n",
       "    }\n",
       "</style>\n",
       "<table border=\"1\" class=\"dataframe\">\n",
       "  <thead>\n",
       "    <tr style=\"text-align: right;\">\n",
       "      <th></th>\n",
       "      <th>PREDICCION</th>\n",
       "    </tr>\n",
       "  </thead>\n",
       "  <tbody>\n",
       "    <tr>\n",
       "      <th>0</th>\n",
       "      <td>487.341070</td>\n",
       "    </tr>\n",
       "    <tr>\n",
       "      <th>1</th>\n",
       "      <td>408.580554</td>\n",
       "    </tr>\n",
       "    <tr>\n",
       "      <th>2</th>\n",
       "      <td>394.214892</td>\n",
       "    </tr>\n",
       "    <tr>\n",
       "      <th>3</th>\n",
       "      <td>446.866588</td>\n",
       "    </tr>\n",
       "    <tr>\n",
       "      <th>4</th>\n",
       "      <td>462.668817</td>\n",
       "    </tr>\n",
       "  </tbody>\n",
       "</table>\n",
       "</div>"
      ],
      "text/plain": [
       "   PREDICCION\n",
       "0  487.341070\n",
       "1  408.580554\n",
       "2  394.214892\n",
       "3  446.866588\n",
       "4  462.668817"
      ]
     },
     "execution_count": 65,
     "metadata": {},
     "output_type": "execute_result"
    }
   ],
   "source": [
    "prediccion = lineal.predict(X)\n",
    "dataframe = pd.DataFrame(prediccion,columns=['PREDICCION'])\n",
    "dataframe.head(5)"
   ]
  },
  {
   "cell_type": "code",
   "execution_count": 66,
   "metadata": {},
   "outputs": [],
   "source": [
    "##Grafica Predicción"
   ]
  },
  {
   "cell_type": "code",
   "execution_count": 88,
   "metadata": {},
   "outputs": [
    {
     "data": {
      "image/png": "[encoded data removed]",
      "text/plain": [
       "<Figure size 648x648 with 1 Axes>"
      ]
     },
     "metadata": {
      "needs_background": "light"
     },
     "output_type": "display_data"
    }
   ],
   "source": [
    "grafica = plt.figure(figsize=(9,9))\n",
    "graf = Axes3D(grafica)\n",
    "graf.scatter(list(X.longitd), list(X.referencias), prediccion, c='b', marker='*')\n",
    "graf.scatter(list(X.longitd), list(X.referencias), y, c='g', marker='*')\n",
    "graf.view_init(elev=8., azim=36)\n",
    "graf.set_zlabel('Retweets')\n",
    "graf.set_ylabel('Etiquetas')\n",
    "graf.set_xlabel('Longitud')\n",
    "plt.show()"
   ]
  }
 ],
 "metadata": {
  "kernelspec": {
   "display_name": "Python 3",
   "language": "python",
   "name": "python3"
  },
  "language_info": {
   "codemirror_mode": {
    "name": "ipython",
    "version": 3
   },
   "file_extension": ".py",
   "mimetype": "text/x-python",
   "name": "python",
   "nbconvert_exporter": "python",
   "pygments_lexer": "ipython3",
   "version": "3.8.5"
  }
 },
 "nbformat": 4,
 "nbformat_minor": 4
}
