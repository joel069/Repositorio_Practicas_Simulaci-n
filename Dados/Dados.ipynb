{
 "cells": [
  {
   "cell_type": "code",
   "execution_count": 1,
   "id": "352c3c67",
   "metadata": {},
   "outputs": [
    {
     "name": "stdout",
     "output_type": "stream",
     "text": [
      "Librerias Importadas..!!!\n"
     ]
    }
   ],
   "source": [
    "from random import randrange,randint\n",
    "import matplotlib.pyplot as plt\n",
    "import numpy as np\n",
    "print ('Librerias Importadas..!!!')"
   ]
  },
  {
   "cell_type": "markdown",
   "id": "f898733c",
   "metadata": {},
   "source": [
    "## TAREA SIMULACIÓN LANZAMIENTO DE DADOS"
   ]
  },
  {
   "cell_type": "markdown",
   "id": "5acb8232",
   "metadata": {},
   "source": [
    "#### Problema\n",
    "Si yo tengo dos dados (1-6), y hago 10 lanzamientos, ¿Cuál es el valor de la\n",
    "sumatoria que mas frecuencia tenga?\n",
    "Desarrollar una aplicación en cualquier lenguaje, que me genere un histograma con\n",
    "el numero de ocurrencias de la sumatoria, teniendo diferentes escenarios de\n",
    "lanzamientos:\n",
    "- 10\n",
    "- 100\n",
    "- 1000\n",
    "- 10000\n",
    "- 100000\n",
    "- 1000000"
   ]
  },
  {
   "cell_type": "code",
   "execution_count": 10,
   "id": "01a439cb",
   "metadata": {},
   "outputs": [
    {
     "name": "stdout",
     "output_type": "stream",
     "text": [
      "SELECCIONE NUMERO DE LANZAMIENTOS A REALIZAR...!!!!\n",
      "1  -> 10 Lanzamientos\n",
      "2  -> 100 Lanzamientos\n",
      "3  -> 1000 Lanzamientos\n",
      "4  -> 10000 Lanzamientos\n",
      "5  -> 100000 Lanzamientos\n",
      "2\n"
     ]
    },
    {
     "data": {
      "image/png": "[encoded data removed]",
      "text/plain": [
       "<Figure size 432x288 with 1 Axes>"
      ]
     },
     "metadata": {
      "needs_background": "light"
     },
     "output_type": "display_data"
    }
   ],
   "source": [
    "print('SELECCIONE NUMERO DE LANZAMIENTOS A REALIZAR...!!!!')\n",
    "print('1  -> 10 Lanzamientos')\n",
    "print('2  -> 100 Lanzamientos')\n",
    "print('3  -> 1000 Lanzamientos')\n",
    "print('4  -> 10000 Lanzamientos')\n",
    "print('5  -> 100000 Lanzamientos')\n",
    "\n",
    "entrada = input()\n",
    "\n",
    "if entrada == '1':\n",
    "    lanzamientos=10\n",
    "elif entrada == '2':\n",
    "    lanzamientos=100\n",
    "elif entrada == '3':\n",
    "    lanzamientos=1000\n",
    "elif entrada == '4':\n",
    "    lanzamientos=10000\n",
    "elif entrada == '5':\n",
    "    lanzamientos=100000\n",
    "\n",
    "i=0\n",
    "datos = []\n",
    "\n",
    "while i < lanzamientos:\n",
    "    dado_uno = randint(1,6)\n",
    "    dado_dos = randint(1,6)\n",
    "    valor_total = dado_uno+dado_dos\n",
    "    datos.append(valor_total)\n",
    "    i+=1\n",
    "plt.hist(datos, bins=lanzamientos)\n",
    "plt.title(\"ITERACIONES DE DADOS CON NÚMEROS ALEATORIOS..!!\")\n",
    "plt.xlabel(\"VALOR LANZAMIENTO\")\n",
    "plt.ylabel(\"LANZAMIENTOS\")\n",
    "plt.show()"
   ]
  }
 ],
 "metadata": {
  "kernelspec": {
   "display_name": "Python 3",
   "language": "python",
   "name": "python3"
  },
  "language_info": {
   "codemirror_mode": {
    "name": "ipython",
    "version": 3
   },
   "file_extension": ".py",
   "mimetype": "text/x-python",
   "name": "python",
   "nbconvert_exporter": "python",
   "pygments_lexer": "ipython3",
   "version": "3.8.8"
  }
 },
 "nbformat": 4,
 "nbformat_minor": 5
}
