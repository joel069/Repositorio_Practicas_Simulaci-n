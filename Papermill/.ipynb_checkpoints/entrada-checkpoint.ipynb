{
 "cells": [
  {
   "cell_type": "markdown",
   "id": "dac2c850",
   "metadata": {},
   "source": [
    "## Ejemplo de parametrización mediante Papermill"
   ]
  },
  {
   "cell_type": "markdown",
   "id": "d522d211",
   "metadata": {},
   "source": [
    "#### Papermill es una herramienta para parametrizar y ejecutar Jupyter Notebooks.\n",
    "\n",
    "#### Papermill te permite:\n",
    "\n",
    "#### - Parametrizar cuadernos\n",
    "\n",
    "#### - Ejecutar cuadernos\n",
    "<img src=\"paper.png\">"
   ]
  },
  {
   "cell_type": "code",
   "execution_count": 3,
   "id": "5c0adcb7",
   "metadata": {
    "tags": [
     "injected-parameters"
    ]
   },
   "outputs": [],
   "source": [
    "uno= 0\n",
    "dos= 0\n"
   ]
  },
  {
   "cell_type": "code",
   "execution_count": null,
   "id": "b44e7c1c",
   "metadata": {},
   "outputs": [],
   "source": [
    "if uno < dos:\n",
    "    print (\"El numero \", uno, \"es menor que\", dos)\n",
    "elif uno > dos:\n",
    "    print (\"El numero \", uno, \"es mayor que\", dos)\n",
    "else:\n",
    "    print (\"Los numeros \", uno, \"y\", dos, \"son iguales\")"
   ]
  },
  {
   "cell_type": "markdown",
   "id": "f60bf27c",
   "metadata": {},
   "source": [
    "#### Operaciones con los numeros parametrizados.\n"
   ]
  },
  {
   "cell_type": "code",
   "execution_count": null,
   "id": "503466b0",
   "metadata": {},
   "outputs": [],
   "source": [
    "suma=int(uno)+int(dos)\n",
    "print(\"Suma\",suma)"
   ]
  },
  {
   "cell_type": "code",
   "execution_count": null,
   "id": "ef69a249",
   "metadata": {},
   "outputs": [],
   "source": [
    "resta=int(uno)-int(dos)\n",
    "print(\"Resta\",resta)"
   ]
  },
  {
   "cell_type": "code",
   "execution_count": null,
   "id": "3921328f",
   "metadata": {},
   "outputs": [],
   "source": [
    "mult=int(uno)*int(dos)\n",
    "print(\"Multiplicacion\",mult)"
   ]
  }
 ],
 "metadata": {
  "kernelspec": {
   "display_name": "Python 3",
   "language": "python",
   "name": "python3"
  },
  "language_info": {
   "codemirror_mode": {
    "name": "ipython",
    "version": 3
   },
   "file_extension": ".py",
   "mimetype": "text/x-python",
   "name": "python",
   "nbconvert_exporter": "python",
   "pygments_lexer": "ipython3",
   "version": "3.8.5"
  }
 },
 "nbformat": 4,
 "nbformat_minor": 5
}
