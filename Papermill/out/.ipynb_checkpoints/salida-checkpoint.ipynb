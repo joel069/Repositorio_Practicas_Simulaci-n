{
 "cells": [
  {
   "cell_type": "markdown",
   "id": "d6954f99",
   "metadata": {
    "papermill": {
     "duration": 0.014913,
     "end_time": "2021-06-07T01:43:15.510314",
     "exception": false,
     "start_time": "2021-06-07T01:43:15.495401",
     "status": "completed"
    },
    "tags": []
   },
   "source": [
    "## Ejemplo de parametrización mediante Papermill"
   ]
  },
  {
   "cell_type": "markdown",
   "id": "7fa97caf",
   "metadata": {
    "papermill": {
     "duration": 0.006981,
     "end_time": "2021-06-07T01:43:15.524275",
     "exception": false,
     "start_time": "2021-06-07T01:43:15.517294",
     "status": "completed"
    },
    "tags": []
   },
   "source": [
    "#### Papermill es una herramienta para parametrizar y ejecutar Jupyter Notebooks.\n",
    "\n",
    "#### Papermill te permite:\n",
    "\n",
    "#### Parametrizar cuadernos\n",
    "\n",
    "#### Ejecutar cuadernos"
   ]
  },
  {
   "cell_type": "code",
   "execution_count": 1,
   "id": "d09e0ab6",
   "metadata": {
    "execution": {
     "iopub.execute_input": "2021-06-07T01:43:15.546219Z",
     "iopub.status.busy": "2021-06-07T01:43:15.545219Z",
     "iopub.status.idle": "2021-06-07T01:43:15.550214Z",
     "shell.execute_reply": "2021-06-07T01:43:15.549209Z"
    },
    "papermill": {
     "duration": 0.020948,
     "end_time": "2021-06-07T01:43:15.551207",
     "exception": false,
     "start_time": "2021-06-07T01:43:15.530259",
     "status": "completed"
    },
    "tags": [
     "injected-parameters"
    ]
   },
   "outputs": [],
   "source": [
    "# Parameters\n",
    "uno = \"5\"\n",
    "dos = \"6\"\n"
   ]
  },
  {
   "cell_type": "code",
   "execution_count": 2,
   "id": "89873f21",
   "metadata": {
    "execution": {
     "iopub.execute_input": "2021-06-07T01:43:15.566166Z",
     "iopub.status.busy": "2021-06-07T01:43:15.564171Z",
     "iopub.status.idle": "2021-06-07T01:43:15.572146Z",
     "shell.execute_reply": "2021-06-07T01:43:15.571150Z"
    },
    "papermill": {
     "duration": 0.016952,
     "end_time": "2021-06-07T01:43:15.572146",
     "exception": false,
     "start_time": "2021-06-07T01:43:15.555194",
     "status": "completed"
    },
    "tags": []
   },
   "outputs": [
    {
     "name": "stdout",
     "output_type": "stream",
     "text": [
      "11\n"
     ]
    }
   ],
   "source": [
    "suma=int(uno)+int(dos)\n",
    "print(suma)"
   ]
  },
  {
   "cell_type": "code",
   "execution_count": 3,
   "id": "ca669fd1",
   "metadata": {
    "execution": {
     "iopub.execute_input": "2021-06-07T01:43:15.588106Z",
     "iopub.status.busy": "2021-06-07T01:43:15.588106Z",
     "iopub.status.idle": "2021-06-07T01:43:15.593090Z",
     "shell.execute_reply": "2021-06-07T01:43:15.592094Z"
    },
    "papermill": {
     "duration": 0.015957,
     "end_time": "2021-06-07T01:43:15.593090",
     "exception": false,
     "start_time": "2021-06-07T01:43:15.577133",
     "status": "completed"
    },
    "tags": []
   },
   "outputs": [
    {
     "name": "stdout",
     "output_type": "stream",
     "text": [
      "El numero  5 es menor que 6\n"
     ]
    }
   ],
   "source": [
    "if uno < dos:\n",
    "    print (\"El numero \", uno, \"es menor que\", dos)\n",
    "elif uno > dos:\n",
    "    print (\"El numero \", uno, \"es mayor que\", dos)\n",
    "else:\n",
    "    print (\"Los numeros \", uno, \"y\", dos, \"son iguales\")\n",
    "    \n"
   ]
  }
 ],
 "metadata": {
  "kernelspec": {
   "display_name": "Python 3",
   "language": "python",
   "name": "python3"
  },
  "language_info": {
   "codemirror_mode": {
    "name": "ipython",
    "version": 3
   },
   "file_extension": ".py",
   "mimetype": "text/x-python",
   "name": "python",
   "nbconvert_exporter": "python",
   "pygments_lexer": "ipython3",
   "version": "3.8.5"
  },
  "papermill": {
   "default_parameters": {},
   "duration": 2.026912,
   "end_time": "2021-06-07T01:43:15.811129",
   "environment_variables": {},
   "exception": null,
   "input_path": "./entrada.ipynb",
   "output_path": "./out/salida.ipynb",
   "parameters": {
    "dos": "6",
    "uno": "5"
   },
   "start_time": "2021-06-07T01:43:13.784217",
   "version": "2.3.3"
  }
 },
 "nbformat": 4,
 "nbformat_minor": 5
}