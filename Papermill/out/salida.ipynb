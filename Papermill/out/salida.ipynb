{
 "cells": [
  {
   "cell_type": "markdown",
   "id": "dac2c850",
   "metadata": {
    "papermill": {
     "duration": 0.01669,
     "end_time": "2021-06-07T01:52:09.538672",
     "exception": false,
     "start_time": "2021-06-07T01:52:09.521982",
     "status": "completed"
    },
    "tags": []
   },
   "source": [
    "## Ejemplo de parametrización mediante Papermill"
   ]
  },
  {
   "cell_type": "markdown",
   "id": "d522d211",
   "metadata": {
    "papermill": {
     "duration": 0.008013,
     "end_time": "2021-06-07T01:52:09.557651",
     "exception": false,
     "start_time": "2021-06-07T01:52:09.549638",
     "status": "completed"
    },
    "tags": []
   },
   "source": [
    "#### Papermill es una herramienta para parametrizar y ejecutar Jupyter Notebooks.\n",
    "\n",
    "#### Papermill te permite:\n",
    "\n",
    "#### - Parametrizar cuadernos\n",
    "\n",
    "#### - Ejecutar cuadernos\n",
    "<img src=\"paper.png\">"
   ]
  },
  {
   "cell_type": "code",
   "execution_count": 1,
   "id": "94e1f7b1",
   "metadata": {
    "execution": {
     "iopub.execute_input": "2021-06-07T01:52:09.585578Z",
     "iopub.status.busy": "2021-06-07T01:52:09.584542Z",
     "iopub.status.idle": "2021-06-07T01:52:09.590528Z",
     "shell.execute_reply": "2021-06-07T01:52:09.589532Z"
    },
    "papermill": {
     "duration": 0.022939,
     "end_time": "2021-06-07T01:52:09.590528",
     "exception": false,
     "start_time": "2021-06-07T01:52:09.567589",
     "status": "completed"
    },
    "tags": [
     "injected-parameters"
    ]
   },
   "outputs": [],
   "source": [
    "# Parameters\n",
    "uno = \"10\"\n",
    "dos = \"6\"\n"
   ]
  },
  {
   "cell_type": "code",
   "execution_count": 2,
   "id": "b44e7c1c",
   "metadata": {
    "execution": {
     "iopub.execute_input": "2021-06-07T01:52:09.613512Z",
     "iopub.status.busy": "2021-06-07T01:52:09.612506Z",
     "iopub.status.idle": "2021-06-07T01:52:09.617494Z",
     "shell.execute_reply": "2021-06-07T01:52:09.617494Z"
    },
    "papermill": {
     "duration": 0.015997,
     "end_time": "2021-06-07T01:52:09.617494",
     "exception": false,
     "start_time": "2021-06-07T01:52:09.601497",
     "status": "completed"
    },
    "tags": []
   },
   "outputs": [
    {
     "name": "stdout",
     "output_type": "stream",
     "text": [
      "El numero  10 es menor que 6\n"
     ]
    }
   ],
   "source": [
    "if uno < dos:\n",
    "    print (\"El numero \", uno, \"es menor que\", dos)\n",
    "elif uno > dos:\n",
    "    print (\"El numero \", uno, \"es mayor que\", dos)\n",
    "else:\n",
    "    print (\"Los numeros \", uno, \"y\", dos, \"son iguales\")"
   ]
  },
  {
   "cell_type": "markdown",
   "id": "f60bf27c",
   "metadata": {
    "papermill": {
     "duration": 0.005982,
     "end_time": "2021-06-07T01:52:09.630417",
     "exception": false,
     "start_time": "2021-06-07T01:52:09.624435",
     "status": "completed"
    },
    "tags": []
   },
   "source": [
    "#### Operaciones con los numeros parametrizados.\n"
   ]
  },
  {
   "cell_type": "code",
   "execution_count": 3,
   "id": "503466b0",
   "metadata": {
    "execution": {
     "iopub.execute_input": "2021-06-07T01:52:09.649408Z",
     "iopub.status.busy": "2021-06-07T01:52:09.648372Z",
     "iopub.status.idle": "2021-06-07T01:52:09.651400Z",
     "shell.execute_reply": "2021-06-07T01:52:09.652397Z"
    },
    "papermill": {
     "duration": 0.014999,
     "end_time": "2021-06-07T01:52:09.652397",
     "exception": false,
     "start_time": "2021-06-07T01:52:09.637398",
     "status": "completed"
    },
    "tags": []
   },
   "outputs": [
    {
     "name": "stdout",
     "output_type": "stream",
     "text": [
      "Suma 16\n"
     ]
    }
   ],
   "source": [
    "suma=int(uno)+int(dos)\n",
    "print(\"Suma\",suma)"
   ]
  },
  {
   "cell_type": "code",
   "execution_count": 4,
   "id": "ef69a249",
   "metadata": {
    "execution": {
     "iopub.execute_input": "2021-06-07T01:52:09.668317Z",
     "iopub.status.busy": "2021-06-07T01:52:09.667321Z",
     "iopub.status.idle": "2021-06-07T01:52:09.671351Z",
     "shell.execute_reply": "2021-06-07T01:52:09.671351Z"
    },
    "papermill": {
     "duration": 0.013007,
     "end_time": "2021-06-07T01:52:09.671351",
     "exception": false,
     "start_time": "2021-06-07T01:52:09.658344",
     "status": "completed"
    },
    "tags": []
   },
   "outputs": [
    {
     "name": "stdout",
     "output_type": "stream",
     "text": [
      "Resta 4\n"
     ]
    }
   ],
   "source": [
    "resta=int(uno)-int(dos)\n",
    "print(\"Resta\",resta)"
   ]
  },
  {
   "cell_type": "code",
   "execution_count": 5,
   "id": "3921328f",
   "metadata": {
    "execution": {
     "iopub.execute_input": "2021-06-07T01:52:09.689261Z",
     "iopub.status.busy": "2021-06-07T01:52:09.688266Z",
     "iopub.status.idle": "2021-06-07T01:52:09.691256Z",
     "shell.execute_reply": "2021-06-07T01:52:09.691256Z"
    },
    "papermill": {
     "duration": 0.012922,
     "end_time": "2021-06-07T01:52:09.691256",
     "exception": false,
     "start_time": "2021-06-07T01:52:09.678334",
     "status": "completed"
    },
    "tags": []
   },
   "outputs": [
    {
     "name": "stdout",
     "output_type": "stream",
     "text": [
      "Multiplicacion 60\n"
     ]
    }
   ],
   "source": [
    "mult=int(uno)*int(dos)\n",
    "print(\"Multiplicacion\",mult)"
   ]
  }
 ],
 "metadata": {
  "kernelspec": {
   "display_name": "Python 3",
   "language": "python",
   "name": "python3"
  },
  "language_info": {
   "codemirror_mode": {
    "name": "ipython",
    "version": 3
   },
   "file_extension": ".py",
   "mimetype": "text/x-python",
   "name": "python",
   "nbconvert_exporter": "python",
   "pygments_lexer": "ipython3",
   "version": "3.8.5"
  },
  "papermill": {
   "default_parameters": {},
   "duration": 2.212265,
   "end_time": "2021-06-07T01:52:10.009204",
   "environment_variables": {},
   "exception": null,
   "input_path": "./entrada.ipynb",
   "output_path": "./out/salida.ipynb",
   "parameters": {
    "dos": "6",
    "uno": "10"
   },
   "start_time": "2021-06-07T01:52:07.796939",
   "version": "2.3.3"
  }
 },
 "nbformat": 4,
 "nbformat_minor": 5
}