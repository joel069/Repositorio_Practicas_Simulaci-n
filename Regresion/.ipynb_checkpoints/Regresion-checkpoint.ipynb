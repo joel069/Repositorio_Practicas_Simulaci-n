{
 "cells": [
  {
   "cell_type": "markdown",
   "id": "4bb0fae1",
   "metadata": {},
   "source": [
    "## Modelo Regresión Casos Covid en el Ecuador"
   ]
  },
  {
   "cell_type": "markdown",
   "id": "076c3be8",
   "metadata": {},
   "source": [
    "Generar un modelo de regresión de los casos confirmados de COVID dentro del Ecuador, el mismo que permita predecir el comportamiento y/o predicción de la pandemia, tomar los datos desde el inicio e identificar etapas: Confinamiento, Toques de Queda, Feriados, etc."
   ]
  },
  {
   "cell_type": "markdown",
   "id": "b8e9fcca",
   "metadata": {},
   "source": [
    "## VÁSQUEZ FAJARDO FRANKLIN JOEL"
   ]
  },
  {
   "cell_type": "markdown",
   "id": "340b0bb1",
   "metadata": {},
   "source": [
    "## SIMULACIÓN"
   ]
  },
  {
   "cell_type": "code",
   "execution_count": 1,
   "id": "396eb295",
   "metadata": {},
   "outputs": [
    {
     "name": "stdout",
     "output_type": "stream",
     "text": [
      "Librerias Importadas\n"
     ]
    }
   ],
   "source": [
    "# Librerias\n",
    "import pandas as pd\n",
    "import numpy as np\n",
    "from datetime import datetime,timedelta\n",
    "from sklearn.metrics import mean_squared_error\n",
    "from scipy.optimize import curve_fit\n",
    "from scipy.optimize import fsolve\n",
    "from sklearn import linear_model\n",
    "from sklearn.preprocessing import PolynomialFeatures \n",
    "import matplotlib.pyplot as plt\n",
    "import altair as alt\n",
    "print ('Librerias Importadas')"
   ]
  },
  {
   "cell_type": "code",
   "execution_count": 2,
   "id": "81abd87b",
   "metadata": {},
   "outputs": [
    {
     "data": {
      "text/html": [
       "<div>\n",
       "<style scoped>\n",
       "    .dataframe tbody tr th:only-of-type {\n",
       "        vertical-align: middle;\n",
       "    }\n",
       "\n",
       "    .dataframe tbody tr th {\n",
       "        vertical-align: top;\n",
       "    }\n",
       "\n",
       "    .dataframe thead th {\n",
       "        text-align: right;\n",
       "    }\n",
       "</style>\n",
       "<table border=\"1\" class=\"dataframe\">\n",
       "  <thead>\n",
       "    <tr style=\"text-align: right;\">\n",
       "      <th></th>\n",
       "      <th>iso_code</th>\n",
       "      <th>continent</th>\n",
       "      <th>location</th>\n",
       "      <th>date</th>\n",
       "      <th>total_cases</th>\n",
       "      <th>new_cases</th>\n",
       "      <th>new_cases_smoothed</th>\n",
       "      <th>total_deaths</th>\n",
       "      <th>new_deaths</th>\n",
       "      <th>new_deaths_smoothed</th>\n",
       "      <th>...</th>\n",
       "      <th>gdp_per_capita</th>\n",
       "      <th>extreme_poverty</th>\n",
       "      <th>cardiovasc_death_rate</th>\n",
       "      <th>diabetes_prevalence</th>\n",
       "      <th>female_smokers</th>\n",
       "      <th>male_smokers</th>\n",
       "      <th>handwashing_facilities</th>\n",
       "      <th>hospital_beds_per_thousand</th>\n",
       "      <th>life_expectancy</th>\n",
       "      <th>human_development_index</th>\n",
       "    </tr>\n",
       "  </thead>\n",
       "  <tbody>\n",
       "    <tr>\n",
       "      <th>0</th>\n",
       "      <td>ECU</td>\n",
       "      <td>South America</td>\n",
       "      <td>Ecuador</td>\n",
       "      <td>1/3/2020</td>\n",
       "      <td>6.0</td>\n",
       "      <td>6.0</td>\n",
       "      <td>NaN</td>\n",
       "      <td>NaN</td>\n",
       "      <td>NaN</td>\n",
       "      <td>NaN</td>\n",
       "      <td>...</td>\n",
       "      <td>10.581.936</td>\n",
       "      <td>3.6</td>\n",
       "      <td>140.448</td>\n",
       "      <td>5.55</td>\n",
       "      <td>2.0</td>\n",
       "      <td>12.3</td>\n",
       "      <td>80.635</td>\n",
       "      <td>1.5</td>\n",
       "      <td>77.01</td>\n",
       "      <td>0.759</td>\n",
       "    </tr>\n",
       "    <tr>\n",
       "      <th>1</th>\n",
       "      <td>ECU</td>\n",
       "      <td>South America</td>\n",
       "      <td>Ecuador</td>\n",
       "      <td>2/3/2020</td>\n",
       "      <td>6.0</td>\n",
       "      <td>0.0</td>\n",
       "      <td>NaN</td>\n",
       "      <td>NaN</td>\n",
       "      <td>NaN</td>\n",
       "      <td>NaN</td>\n",
       "      <td>...</td>\n",
       "      <td>10.581.936</td>\n",
       "      <td>3.6</td>\n",
       "      <td>140.448</td>\n",
       "      <td>5.55</td>\n",
       "      <td>2.0</td>\n",
       "      <td>12.3</td>\n",
       "      <td>80.635</td>\n",
       "      <td>1.5</td>\n",
       "      <td>77.01</td>\n",
       "      <td>0.759</td>\n",
       "    </tr>\n",
       "    <tr>\n",
       "      <th>2</th>\n",
       "      <td>ECU</td>\n",
       "      <td>South America</td>\n",
       "      <td>Ecuador</td>\n",
       "      <td>3/3/2020</td>\n",
       "      <td>7.0</td>\n",
       "      <td>1.0</td>\n",
       "      <td>NaN</td>\n",
       "      <td>NaN</td>\n",
       "      <td>NaN</td>\n",
       "      <td>NaN</td>\n",
       "      <td>...</td>\n",
       "      <td>10.581.936</td>\n",
       "      <td>3.6</td>\n",
       "      <td>140.448</td>\n",
       "      <td>5.55</td>\n",
       "      <td>2.0</td>\n",
       "      <td>12.3</td>\n",
       "      <td>80.635</td>\n",
       "      <td>1.5</td>\n",
       "      <td>77.01</td>\n",
       "      <td>0.759</td>\n",
       "    </tr>\n",
       "    <tr>\n",
       "      <th>3</th>\n",
       "      <td>ECU</td>\n",
       "      <td>South America</td>\n",
       "      <td>Ecuador</td>\n",
       "      <td>4/3/2020</td>\n",
       "      <td>10.0</td>\n",
       "      <td>3.0</td>\n",
       "      <td>NaN</td>\n",
       "      <td>NaN</td>\n",
       "      <td>NaN</td>\n",
       "      <td>NaN</td>\n",
       "      <td>...</td>\n",
       "      <td>10.581.936</td>\n",
       "      <td>3.6</td>\n",
       "      <td>140.448</td>\n",
       "      <td>5.55</td>\n",
       "      <td>2.0</td>\n",
       "      <td>12.3</td>\n",
       "      <td>80.635</td>\n",
       "      <td>1.5</td>\n",
       "      <td>77.01</td>\n",
       "      <td>0.759</td>\n",
       "    </tr>\n",
       "    <tr>\n",
       "      <th>4</th>\n",
       "      <td>ECU</td>\n",
       "      <td>South America</td>\n",
       "      <td>Ecuador</td>\n",
       "      <td>5/3/2020</td>\n",
       "      <td>13.0</td>\n",
       "      <td>3.0</td>\n",
       "      <td>NaN</td>\n",
       "      <td>NaN</td>\n",
       "      <td>NaN</td>\n",
       "      <td>NaN</td>\n",
       "      <td>...</td>\n",
       "      <td>10.581.936</td>\n",
       "      <td>3.6</td>\n",
       "      <td>140.448</td>\n",
       "      <td>5.55</td>\n",
       "      <td>2.0</td>\n",
       "      <td>12.3</td>\n",
       "      <td>80.635</td>\n",
       "      <td>1.5</td>\n",
       "      <td>77.01</td>\n",
       "      <td>0.759</td>\n",
       "    </tr>\n",
       "  </tbody>\n",
       "</table>\n",
       "<p>5 rows × 59 columns</p>\n",
       "</div>"
      ],
      "text/plain": [
       "  iso_code      continent location      date  total_cases  new_cases  \\\n",
       "0      ECU  South America  Ecuador  1/3/2020          6.0        6.0   \n",
       "1      ECU  South America  Ecuador  2/3/2020          6.0        0.0   \n",
       "2      ECU  South America  Ecuador  3/3/2020          7.0        1.0   \n",
       "3      ECU  South America  Ecuador  4/3/2020         10.0        3.0   \n",
       "4      ECU  South America  Ecuador  5/3/2020         13.0        3.0   \n",
       "\n",
       "  new_cases_smoothed  total_deaths  new_deaths  new_deaths_smoothed  ...  \\\n",
       "0                NaN           NaN         NaN                  NaN  ...   \n",
       "1                NaN           NaN         NaN                  NaN  ...   \n",
       "2                NaN           NaN         NaN                  NaN  ...   \n",
       "3                NaN           NaN         NaN                  NaN  ...   \n",
       "4                NaN           NaN         NaN                  NaN  ...   \n",
       "\n",
       "  gdp_per_capita  extreme_poverty  cardiovasc_death_rate diabetes_prevalence  \\\n",
       "0     10.581.936              3.6                140.448                5.55   \n",
       "1     10.581.936              3.6                140.448                5.55   \n",
       "2     10.581.936              3.6                140.448                5.55   \n",
       "3     10.581.936              3.6                140.448                5.55   \n",
       "4     10.581.936              3.6                140.448                5.55   \n",
       "\n",
       "   female_smokers  male_smokers  handwashing_facilities  \\\n",
       "0             2.0          12.3                  80.635   \n",
       "1             2.0          12.3                  80.635   \n",
       "2             2.0          12.3                  80.635   \n",
       "3             2.0          12.3                  80.635   \n",
       "4             2.0          12.3                  80.635   \n",
       "\n",
       "   hospital_beds_per_thousand  life_expectancy  human_development_index  \n",
       "0                         1.5            77.01                    0.759  \n",
       "1                         1.5            77.01                    0.759  \n",
       "2                         1.5            77.01                    0.759  \n",
       "3                         1.5            77.01                    0.759  \n",
       "4                         1.5            77.01                    0.759  \n",
       "\n",
       "[5 rows x 59 columns]"
      ]
     },
     "execution_count": 2,
     "metadata": {},
     "output_type": "execute_result"
    }
   ],
   "source": [
    "df = pd.read_csv('./datos_ecuador.csv')\n",
    "df.head()"
   ]
  },
  {
   "cell_type": "code",
   "execution_count": 387,
   "id": "c2b39097",
   "metadata": {},
   "outputs": [
    {
     "data": {
      "text/html": [
       "<div>\n",
       "<style scoped>\n",
       "    .dataframe tbody tr th:only-of-type {\n",
       "        vertical-align: middle;\n",
       "    }\n",
       "\n",
       "    .dataframe tbody tr th {\n",
       "        vertical-align: top;\n",
       "    }\n",
       "\n",
       "    .dataframe thead th {\n",
       "        text-align: right;\n",
       "    }\n",
       "</style>\n",
       "<table border=\"1\" class=\"dataframe\">\n",
       "  <thead>\n",
       "    <tr style=\"text-align: right;\">\n",
       "      <th></th>\n",
       "      <th>date</th>\n",
       "      <th>total_cases</th>\n",
       "    </tr>\n",
       "  </thead>\n",
       "  <tbody>\n",
       "    <tr>\n",
       "      <th>0</th>\n",
       "      <td>0</td>\n",
       "      <td>6.0</td>\n",
       "    </tr>\n",
       "    <tr>\n",
       "      <th>1</th>\n",
       "      <td>1</td>\n",
       "      <td>6.0</td>\n",
       "    </tr>\n",
       "    <tr>\n",
       "      <th>2</th>\n",
       "      <td>2</td>\n",
       "      <td>7.0</td>\n",
       "    </tr>\n",
       "    <tr>\n",
       "      <th>3</th>\n",
       "      <td>3</td>\n",
       "      <td>10.0</td>\n",
       "    </tr>\n",
       "    <tr>\n",
       "      <th>4</th>\n",
       "      <td>4</td>\n",
       "      <td>13.0</td>\n",
       "    </tr>\n",
       "  </tbody>\n",
       "</table>\n",
       "</div>"
      ],
      "text/plain": [
       "   date  total_cases\n",
       "0     0          6.0\n",
       "1     1          6.0\n",
       "2     2          7.0\n",
       "3     3         10.0\n",
       "4     4         13.0"
      ]
     },
     "execution_count": 387,
     "metadata": {},
     "output_type": "execute_result"
    }
   ],
   "source": [
    "df = df.loc[: , [\"date\",\"total_cases\"]]\n",
    "FMT = '%d/%m/%Y'\n",
    "date = df['date']\n",
    "df['date'] = date.map(lambda x : (datetime.strptime(x, FMT) - datetime.strptime(\"01/03/2020\", FMT)).days)\n",
    "df = df.dropna()\n",
    "df = df.drop(df[df['total_cases']<1].index)\n",
    "df.head()"
   ]
  },
  {
   "cell_type": "code",
   "execution_count": 388,
   "id": "9ccb2091",
   "metadata": {},
   "outputs": [
    {
     "data": {
      "text/html": [
       "\n",
       "<div id=\"altair-viz-829c52db8ed9419a9ea7c48a16685ba0\"></div>\n",
       "<script type=\"text/javascript\">\n",
       "  (function(spec, embedOpt){\n",
       "    let outputDiv = document.currentScript.previousElementSibling;\n",
       "    if (outputDiv.id !== \"altair-viz-829c52db8ed9419a9ea7c48a16685ba0\") {\n",
       "      outputDiv = document.getElementById(\"altair-viz-829c52db8ed9419a9ea7c48a16685ba0\");\n",
       "    }\n",
       "    const paths = {\n",
       "      \"vega\": \"https://cdn.jsdelivr.net/npm//vega@5?noext\",\n",
       "      \"vega-lib\": \"https://cdn.jsdelivr.net/npm//vega-lib?noext\",\n",
       "      \"vega-lite\": \"https://cdn.jsdelivr.net/npm//vega-lite@4.8.1?noext\",\n",
       "      \"vega-embed\": \"https://cdn.jsdelivr.net/npm//vega-embed@6?noext\",\n",
       "    };\n",
       "\n",
       "    function loadScript(lib) {\n",
       "      return new Promise(function(resolve, reject) {\n",
       "        var s = document.createElement('script');\n",
       "        s.src = paths[lib];\n",
       "        s.async = true;\n",
       "        s.onload = () => resolve(paths[lib]);\n",
       "        s.onerror = () => reject(`Error loading script: ${paths[lib]}`);\n",
       "        document.getElementsByTagName(\"head\")[0].appendChild(s);\n",
       "      });\n",
       "    }\n",
       "\n",
       "    function showError(err) {\n",
       "      outputDiv.innerHTML = `<div class=\"error\" style=\"color:red;\">${err}</div>`;\n",
       "      throw err;\n",
       "    }\n",
       "\n",
       "    function displayChart(vegaEmbed) {\n",
       "      vegaEmbed(outputDiv, spec, embedOpt)\n",
       "        .catch(err => showError(`Javascript Error: ${err.message}<br>This usually means there's a typo in your chart specification. See the javascript console for the full traceback.`));\n",
       "    }\n",
       "\n",
       "    if(typeof define === \"function\" && define.amd) {\n",
       "      requirejs.config({paths});\n",
       "      require([\"vega-embed\"], displayChart, err => showError(`Error loading script: ${err.message}`));\n",
       "    } else if (typeof vegaEmbed === \"function\") {\n",
       "      displayChart(vegaEmbed);\n",
       "    } else {\n",
       "      loadScript(\"vega\")\n",
       "        .then(() => loadScript(\"vega-lite\"))\n",
       "        .then(() => loadScript(\"vega-embed\"))\n",
       "        .catch(showError)\n",
       "        .then(() => displayChart(vegaEmbed));\n",
       "    }\n",
       "  })({\"config\": {\"view\": {\"continuousWidth\": 400, \"continuousHeight\": 300}}, \"data\": {\"name\": \"data-66591e42c231a8aab1c05bdddf704366\"}, \"mark\": \"line\", \"encoding\": {\"color\": {\"condition\": {\"value\": \"green\", \"test\": \"(datum.total === 1200000)\"}, \"value\": \"green\"}, \"column\": {\"type\": \"temporal\", \"field\": \"arrived_at\", \"timeUnit\": \"month\", \"title\": \"Casos Covid desde 01/03/2020\"}, \"tooltip\": [{\"type\": \"quantitative\", \"field\": \"date\"}, {\"type\": \"quantitative\", \"field\": \"total_cases\"}], \"x\": {\"type\": \"quantitative\", \"field\": \"date\"}, \"y\": {\"type\": \"quantitative\", \"field\": \"total_cases\"}}, \"$schema\": \"https://vega.github.io/schema/vega-lite/v4.8.1.json\", \"datasets\": {\"data-66591e42c231a8aab1c05bdddf704366\": [{\"index\": 0, \"date\": 0, \"total_cases\": 6.0}, {\"index\": 1, \"date\": 1, \"total_cases\": 6.0}, {\"index\": 2, \"date\": 2, \"total_cases\": 7.0}, {\"index\": 3, \"date\": 3, \"total_cases\": 10.0}, {\"index\": 4, \"date\": 4, \"total_cases\": 13.0}, {\"index\": 5, \"date\": 5, \"total_cases\": 13.0}, {\"index\": 6, \"date\": 6, \"total_cases\": 13.0}, {\"index\": 7, \"date\": 7, \"total_cases\": 14.0}, {\"index\": 8, \"date\": 8, \"total_cases\": 15.0}, {\"index\": 9, \"date\": 9, \"total_cases\": 15.0}, {\"index\": 10, \"date\": 10, \"total_cases\": 17.0}, {\"index\": 11, \"date\": 11, \"total_cases\": 17.0}, {\"index\": 12, \"date\": 12, \"total_cases\": 17.0}, {\"index\": 13, \"date\": 13, \"total_cases\": 28.0}, {\"index\": 14, \"date\": 14, \"total_cases\": 28.0}, {\"index\": 15, \"date\": 15, \"total_cases\": 37.0}, {\"index\": 16, \"date\": 16, \"total_cases\": 58.0}, {\"index\": 17, \"date\": 17, \"total_cases\": 111.0}, {\"index\": 18, \"date\": 18, \"total_cases\": 199.0}, {\"index\": 19, \"date\": 19, \"total_cases\": 367.0}, {\"index\": 20, \"date\": 20, \"total_cases\": 506.0}, {\"index\": 21, \"date\": 21, \"total_cases\": 789.0}, {\"index\": 22, \"date\": 22, \"total_cases\": 981.0}, {\"index\": 23, \"date\": 23, \"total_cases\": 1082.0}, {\"index\": 24, \"date\": 24, \"total_cases\": 1173.0}, {\"index\": 25, \"date\": 25, \"total_cases\": 1403.0}, {\"index\": 26, \"date\": 26, \"total_cases\": 1595.0}, {\"index\": 27, \"date\": 27, \"total_cases\": 1823.0}, {\"index\": 28, \"date\": 28, \"total_cases\": 1924.0}, {\"index\": 29, \"date\": 29, \"total_cases\": 1962.0}, {\"index\": 30, \"date\": 30, \"total_cases\": 2240.0}, {\"index\": 31, \"date\": 31, \"total_cases\": 2748.0}, {\"index\": 32, \"date\": 32, \"total_cases\": 3163.0}, {\"index\": 33, \"date\": 33, \"total_cases\": 3368.0}, {\"index\": 34, \"date\": 34, \"total_cases\": 3465.0}, {\"index\": 35, \"date\": 35, \"total_cases\": 3646.0}, {\"index\": 36, \"date\": 36, \"total_cases\": 3747.0}, {\"index\": 37, \"date\": 37, \"total_cases\": 3747.0}, {\"index\": 38, \"date\": 38, \"total_cases\": 4450.0}, {\"index\": 39, \"date\": 39, \"total_cases\": 4965.0}, {\"index\": 40, \"date\": 40, \"total_cases\": 7161.0}, {\"index\": 41, \"date\": 41, \"total_cases\": 7257.0}, {\"index\": 42, \"date\": 42, \"total_cases\": 7466.0}, {\"index\": 43, \"date\": 43, \"total_cases\": 7529.0}, {\"index\": 44, \"date\": 44, \"total_cases\": 7603.0}, {\"index\": 45, \"date\": 45, \"total_cases\": 7858.0}, {\"index\": 46, \"date\": 46, \"total_cases\": 8225.0}, {\"index\": 47, \"date\": 47, \"total_cases\": 8450.0}, {\"index\": 48, \"date\": 48, \"total_cases\": 9022.0}, {\"index\": 49, \"date\": 49, \"total_cases\": 9468.0}, {\"index\": 50, \"date\": 50, \"total_cases\": 10128.0}, {\"index\": 51, \"date\": 51, \"total_cases\": 10398.0}, {\"index\": 52, \"date\": 52, \"total_cases\": 10850.0}, {\"index\": 53, \"date\": 53, \"total_cases\": 11183.0}, {\"index\": 54, \"date\": 54, \"total_cases\": 22719.0}, {\"index\": 55, \"date\": 55, \"total_cases\": 22719.0}, {\"index\": 56, \"date\": 56, \"total_cases\": 22719.0}, {\"index\": 57, \"date\": 57, \"total_cases\": 23240.0}, {\"index\": 58, \"date\": 58, \"total_cases\": 24258.0}, {\"index\": 59, \"date\": 59, \"total_cases\": 24675.0}, {\"index\": 60, \"date\": 60, \"total_cases\": 24934.0}, {\"index\": 61, \"date\": 61, \"total_cases\": 26336.0}, {\"index\": 62, \"date\": 62, \"total_cases\": 27464.0}, {\"index\": 63, \"date\": 63, \"total_cases\": 29538.0}, {\"index\": 64, \"date\": 64, \"total_cases\": 31881.0}, {\"index\": 65, \"date\": 65, \"total_cases\": 31881.0}, {\"index\": 66, \"date\": 66, \"total_cases\": 31881.0}, {\"index\": 67, \"date\": 67, \"total_cases\": 30298.0}, {\"index\": 68, \"date\": 68, \"total_cases\": 28818.0}, {\"index\": 69, \"date\": 69, \"total_cases\": 29071.0}, {\"index\": 70, \"date\": 70, \"total_cases\": 29559.0}, {\"index\": 71, \"date\": 71, \"total_cases\": 29509.0}, {\"index\": 72, \"date\": 72, \"total_cases\": 30419.0}, {\"index\": 73, \"date\": 73, \"total_cases\": 30486.0}, {\"index\": 74, \"date\": 74, \"total_cases\": 30502.0}, {\"index\": 75, \"date\": 75, \"total_cases\": 31467.0}, {\"index\": 76, \"date\": 76, \"total_cases\": 32763.0}, {\"index\": 77, \"date\": 77, \"total_cases\": 33182.0}, {\"index\": 78, \"date\": 78, \"total_cases\": 33582.0}, {\"index\": 79, \"date\": 79, \"total_cases\": 34151.0}, {\"index\": 80, \"date\": 80, \"total_cases\": 34854.0}, {\"index\": 81, \"date\": 81, \"total_cases\": 35306.0}, {\"index\": 82, \"date\": 82, \"total_cases\": 35828.0}, {\"index\": 83, \"date\": 83, \"total_cases\": 36258.0}, {\"index\": 84, \"date\": 84, \"total_cases\": 36756.0}, {\"index\": 85, \"date\": 85, \"total_cases\": 37355.0}, {\"index\": 86, \"date\": 86, \"total_cases\": 37355.0}, {\"index\": 87, \"date\": 87, \"total_cases\": 38103.0}, {\"index\": 88, \"date\": 88, \"total_cases\": 38471.0}, {\"index\": 89, \"date\": 89, \"total_cases\": 38571.0}, {\"index\": 90, \"date\": 90, \"total_cases\": 38571.0}, {\"index\": 91, \"date\": 91, \"total_cases\": 39098.0}, {\"index\": 92, \"date\": 92, \"total_cases\": 39098.0}, {\"index\": 93, \"date\": 93, \"total_cases\": 40414.0}, {\"index\": 94, \"date\": 94, \"total_cases\": 40966.0}, {\"index\": 95, \"date\": 95, \"total_cases\": 40966.0}, {\"index\": 96, \"date\": 96, \"total_cases\": 41575.0}, {\"index\": 97, \"date\": 97, \"total_cases\": 42728.0}, {\"index\": 98, \"date\": 98, \"total_cases\": 43120.0}, {\"index\": 99, \"date\": 99, \"total_cases\": 43378.0}, {\"index\": 100, \"date\": 100, \"total_cases\": 43917.0}, {\"index\": 101, \"date\": 101, \"total_cases\": 44440.0}, {\"index\": 102, \"date\": 102, \"total_cases\": 44440.0}, {\"index\": 103, \"date\": 103, \"total_cases\": 45778.0}, {\"index\": 104, \"date\": 104, \"total_cases\": 46356.0}, {\"index\": 105, \"date\": 105, \"total_cases\": 46751.0}, {\"index\": 106, \"date\": 106, \"total_cases\": 47322.0}, {\"index\": 107, \"date\": 107, \"total_cases\": 47943.0}, {\"index\": 108, \"date\": 108, \"total_cases\": 48490.0}, {\"index\": 109, \"date\": 109, \"total_cases\": 49097.0}, {\"index\": 110, \"date\": 110, \"total_cases\": 49731.0}, {\"index\": 111, \"date\": 111, \"total_cases\": 49731.0}, {\"index\": 112, \"date\": 112, \"total_cases\": 50640.0}, {\"index\": 113, \"date\": 113, \"total_cases\": 50640.0}, {\"index\": 114, \"date\": 114, \"total_cases\": 51643.0}, {\"index\": 115, \"date\": 115, \"total_cases\": 51643.0}, {\"index\": 116, \"date\": 116, \"total_cases\": 53156.0}, {\"index\": 117, \"date\": 117, \"total_cases\": 53856.0}, {\"index\": 118, \"date\": 118, \"total_cases\": 54574.0}, {\"index\": 119, \"date\": 119, \"total_cases\": 55255.0}, {\"index\": 120, \"date\": 120, \"total_cases\": 55665.0}, {\"index\": 121, \"date\": 121, \"total_cases\": 56432.0}, {\"index\": 122, \"date\": 122, \"total_cases\": 58257.0}, {\"index\": 123, \"date\": 123, \"total_cases\": 59468.0}, {\"index\": 124, \"date\": 124, \"total_cases\": 60657.0}, {\"index\": 125, \"date\": 125, \"total_cases\": 61535.0}, {\"index\": 126, \"date\": 126, \"total_cases\": 61958.0}, {\"index\": 127, \"date\": 127, \"total_cases\": 62380.0}, {\"index\": 128, \"date\": 128, \"total_cases\": 63245.0}, {\"index\": 129, \"date\": 129, \"total_cases\": 63245.0}, {\"index\": 130, \"date\": 130, \"total_cases\": 64221.0}, {\"index\": 131, \"date\": 131, \"total_cases\": 65018.0}, {\"index\": 132, \"date\": 132, \"total_cases\": 67209.0}, {\"index\": 133, \"date\": 133, \"total_cases\": 67870.0}, {\"index\": 134, \"date\": 134, \"total_cases\": 68459.0}, {\"index\": 135, \"date\": 135, \"total_cases\": 69570.0}, {\"index\": 136, \"date\": 136, \"total_cases\": 70329.0}, {\"index\": 137, \"date\": 137, \"total_cases\": 71365.0}, {\"index\": 138, \"date\": 138, \"total_cases\": 72444.0}, {\"index\": 139, \"date\": 139, \"total_cases\": 73382.0}, {\"index\": 140, \"date\": 140, \"total_cases\": 74013.0}, {\"index\": 141, \"date\": 141, \"total_cases\": 74620.0}, {\"index\": 142, \"date\": 142, \"total_cases\": 76217.0}, {\"index\": 143, \"date\": 143, \"total_cases\": 77257.0}, {\"index\": 144, \"date\": 144, \"total_cases\": 78148.0}, {\"index\": 145, \"date\": 145, \"total_cases\": 79049.0}, {\"index\": 146, \"date\": 146, \"total_cases\": 80036.0}, {\"index\": 147, \"date\": 147, \"total_cases\": 80694.0}, {\"index\": 148, \"date\": 148, \"total_cases\": 81161.0}, {\"index\": 149, \"date\": 149, \"total_cases\": 82279.0}, {\"index\": 150, \"date\": 150, \"total_cases\": 83193.0}, {\"index\": 151, \"date\": 151, \"total_cases\": 84370.0}, {\"index\": 152, \"date\": 152, \"total_cases\": 85355.0}, {\"index\": 153, \"date\": 153, \"total_cases\": 86232.0}, {\"index\": 154, \"date\": 154, \"total_cases\": 86232.0}, {\"index\": 155, \"date\": 155, \"total_cases\": 87041.0}, {\"index\": 156, \"date\": 156, \"total_cases\": 87963.0}, {\"index\": 157, \"date\": 157, \"total_cases\": 88866.0}, {\"index\": 158, \"date\": 158, \"total_cases\": 90537.0}, {\"index\": 159, \"date\": 159, \"total_cases\": 91969.0}, {\"index\": 160, \"date\": 160, \"total_cases\": 93572.0}, {\"index\": 161, \"date\": 161, \"total_cases\": 94459.0}, {\"index\": 162, \"date\": 162, \"total_cases\": 94701.0}, {\"index\": 163, \"date\": 163, \"total_cases\": 95563.0}, {\"index\": 164, \"date\": 164, \"total_cases\": 97110.0}, {\"index\": 165, \"date\": 165, \"total_cases\": 98343.0}, {\"index\": 166, \"date\": 166, \"total_cases\": 99409.0}, {\"index\": 167, \"date\": 167, \"total_cases\": 100688.0}, {\"index\": 168, \"date\": 168, \"total_cases\": 101542.0}, {\"index\": 169, \"date\": 169, \"total_cases\": 101751.0}, {\"index\": 170, \"date\": 170, \"total_cases\": 102941.0}, {\"index\": 171, \"date\": 171, \"total_cases\": 104475.0}, {\"index\": 172, \"date\": 172, \"total_cases\": 105508.0}, {\"index\": 173, \"date\": 173, \"total_cases\": 106481.0}, {\"index\": 174, \"date\": 174, \"total_cases\": 107089.0}, {\"index\": 175, \"date\": 175, \"total_cases\": 107769.0}, {\"index\": 176, \"date\": 176, \"total_cases\": 108289.0}, {\"index\": 177, \"date\": 177, \"total_cases\": 109030.0}, {\"index\": 178, \"date\": 178, \"total_cases\": 110549.0}, {\"index\": 179, \"date\": 179, \"total_cases\": 111219.0}, {\"index\": 180, \"date\": 180, \"total_cases\": 112141.0}, {\"index\": 181, \"date\": 181, \"total_cases\": 112906.0}, {\"index\": 182, \"date\": 182, \"total_cases\": 113648.0}, {\"index\": 183, \"date\": 183, \"total_cases\": 113767.0}, {\"index\": 184, \"date\": 184, \"total_cases\": 114309.0}, {\"index\": 185, \"date\": 185, \"total_cases\": 115457.0}, {\"index\": 186, \"date\": 186, \"total_cases\": 116360.0}, {\"index\": 187, \"date\": 187, \"total_cases\": 117175.0}, {\"index\": 188, \"date\": 188, \"total_cases\": 118045.0}, {\"index\": 189, \"date\": 189, \"total_cases\": 118045.0}, {\"index\": 190, \"date\": 190, \"total_cases\": 110092.0}, {\"index\": 191, \"date\": 191, \"total_cases\": 110757.0}, {\"index\": 192, \"date\": 192, \"total_cases\": 112166.0}, {\"index\": 193, \"date\": 193, \"total_cases\": 113206.0}, {\"index\": 194, \"date\": 194, \"total_cases\": 114732.0}, {\"index\": 195, \"date\": 195, \"total_cases\": 116451.0}, {\"index\": 196, \"date\": 196, \"total_cases\": 118594.0}, {\"index\": 197, \"date\": 197, \"total_cases\": 118911.0}, {\"index\": 198, \"date\": 198, \"total_cases\": 119553.0}, {\"index\": 199, \"date\": 199, \"total_cases\": 121525.0}, {\"index\": 200, \"date\": 200, \"total_cases\": 122257.0}, {\"index\": 201, \"date\": 201, \"total_cases\": 124129.0}, {\"index\": 202, \"date\": 202, \"total_cases\": 125620.0}, {\"index\": 203, \"date\": 203, \"total_cases\": 126419.0}, {\"index\": 204, \"date\": 204, \"total_cases\": 126711.0}, {\"index\": 205, \"date\": 205, \"total_cases\": 127643.0}, {\"index\": 206, \"date\": 206, \"total_cases\": 129892.0}, {\"index\": 207, \"date\": 207, \"total_cases\": 131146.0}, {\"index\": 208, \"date\": 208, \"total_cases\": 132475.0}, {\"index\": 209, \"date\": 209, \"total_cases\": 133981.0}, {\"index\": 210, \"date\": 210, \"total_cases\": 134747.0}, {\"index\": 211, \"date\": 211, \"total_cases\": 134965.0}, {\"index\": 212, \"date\": 212, \"total_cases\": 135749.0}, {\"index\": 213, \"date\": 213, \"total_cases\": 137047.0}, {\"index\": 214, \"date\": 214, \"total_cases\": 138584.0}, {\"index\": 215, \"date\": 215, \"total_cases\": 139534.0}, {\"index\": 216, \"date\": 216, \"total_cases\": 140351.0}, {\"index\": 217, \"date\": 217, \"total_cases\": 141034.0}, {\"index\": 218, \"date\": 218, \"total_cases\": 141339.0}, {\"index\": 219, \"date\": 219, \"total_cases\": 142056.0}, {\"index\": 220, \"date\": 220, \"total_cases\": 143531.0}, {\"index\": 221, \"date\": 221, \"total_cases\": 145045.0}, {\"index\": 222, \"date\": 222, \"total_cases\": 145848.0}, {\"index\": 223, \"date\": 223, \"total_cases\": 146828.0}, {\"index\": 224, \"date\": 224, \"total_cases\": 147033.0}, {\"index\": 225, \"date\": 225, \"total_cases\": 147315.0}, {\"index\": 226, \"date\": 226, \"total_cases\": 148171.0}, {\"index\": 227, \"date\": 227, \"total_cases\": 149083.0}, {\"index\": 228, \"date\": 228, \"total_cases\": 150360.0}, {\"index\": 229, \"date\": 229, \"total_cases\": 151659.0}, {\"index\": 230, \"date\": 230, \"total_cases\": 152422.0}, {\"index\": 231, \"date\": 231, \"total_cases\": 153289.0}, {\"index\": 232, \"date\": 232, \"total_cases\": 153423.0}, {\"index\": 233, \"date\": 233, \"total_cases\": 154115.0}, {\"index\": 234, \"date\": 234, \"total_cases\": 155625.0}, {\"index\": 235, \"date\": 235, \"total_cases\": 156451.0}, {\"index\": 236, \"date\": 236, \"total_cases\": 158270.0}, {\"index\": 237, \"date\": 237, \"total_cases\": 159614.0}, {\"index\": 238, \"date\": 238, \"total_cases\": 161635.0}, {\"index\": 239, \"date\": 239, \"total_cases\": 162178.0}, {\"index\": 240, \"date\": 240, \"total_cases\": 163192.0}, {\"index\": 241, \"date\": 241, \"total_cases\": 164908.0}, {\"index\": 242, \"date\": 242, \"total_cases\": 166302.0}, {\"index\": 243, \"date\": 243, \"total_cases\": 167147.0}, {\"index\": 244, \"date\": 244, \"total_cases\": 168192.0}, {\"index\": 245, \"date\": 245, \"total_cases\": 169194.0}, {\"index\": 246, \"date\": 246, \"total_cases\": 169562.0}, {\"index\": 247, \"date\": 247, \"total_cases\": 170110.0}, {\"index\": 248, \"date\": 248, \"total_cases\": 171433.0}, {\"index\": 249, \"date\": 249, \"total_cases\": 171783.0}, {\"index\": 250, \"date\": 250, \"total_cases\": 172508.0}, {\"index\": 251, \"date\": 251, \"total_cases\": 173486.0}, {\"index\": 252, \"date\": 252, \"total_cases\": 174907.0}, {\"index\": 253, \"date\": 253, \"total_cases\": 175269.0}, {\"index\": 254, \"date\": 254, \"total_cases\": 175711.0}, {\"index\": 255, \"date\": 255, \"total_cases\": 176630.0}, {\"index\": 256, \"date\": 256, \"total_cases\": 177513.0}, {\"index\": 257, \"date\": 257, \"total_cases\": 178674.0}, {\"index\": 258, \"date\": 258, \"total_cases\": 179627.0}, {\"index\": 259, \"date\": 259, \"total_cases\": 180295.0}, {\"index\": 260, \"date\": 260, \"total_cases\": 180676.0}, {\"index\": 261, \"date\": 261, \"total_cases\": 181104.0}, {\"index\": 262, \"date\": 262, \"total_cases\": 182250.0}, {\"index\": 263, \"date\": 263, \"total_cases\": 183246.0}, {\"index\": 264, \"date\": 264, \"total_cases\": 183840.0}, {\"index\": 265, \"date\": 265, \"total_cases\": 184876.0}, {\"index\": 266, \"date\": 266, \"total_cases\": 185643.0}, {\"index\": 267, \"date\": 267, \"total_cases\": 185944.0}, {\"index\": 268, \"date\": 268, \"total_cases\": 186436.0}, {\"index\": 269, \"date\": 269, \"total_cases\": 187230.0}, {\"index\": 270, \"date\": 270, \"total_cases\": 188138.0}, {\"index\": 271, \"date\": 271, \"total_cases\": 189534.0}, {\"index\": 272, \"date\": 272, \"total_cases\": 190909.0}, {\"index\": 273, \"date\": 273, \"total_cases\": 192117.0}, {\"index\": 274, \"date\": 274, \"total_cases\": 192685.0}, {\"index\": 275, \"date\": 275, \"total_cases\": 193673.0}, {\"index\": 276, \"date\": 276, \"total_cases\": 194876.0}, {\"index\": 277, \"date\": 277, \"total_cases\": 195884.0}, {\"index\": 278, \"date\": 278, \"total_cases\": 196482.0}, {\"index\": 279, \"date\": 279, \"total_cases\": 197391.0}, {\"index\": 280, \"date\": 280, \"total_cases\": 197998.0}, {\"index\": 281, \"date\": 281, \"total_cases\": 198244.0}, {\"index\": 282, \"date\": 282, \"total_cases\": 198752.0}, {\"index\": 283, \"date\": 283, \"total_cases\": 199228.0}, {\"index\": 284, \"date\": 284, \"total_cases\": 200379.0}, {\"index\": 285, \"date\": 285, \"total_cases\": 200765.0}, {\"index\": 286, \"date\": 286, \"total_cases\": 201524.0}, {\"index\": 287, \"date\": 287, \"total_cases\": 202110.0}, {\"index\": 288, \"date\": 288, \"total_cases\": 202180.0}, {\"index\": 289, \"date\": 289, \"total_cases\": 202356.0}, {\"index\": 290, \"date\": 290, \"total_cases\": 203461.0}, {\"index\": 291, \"date\": 291, \"total_cases\": 204249.0}, {\"index\": 292, \"date\": 292, \"total_cases\": 205003.0}, {\"index\": 293, \"date\": 293, \"total_cases\": 205920.0}, {\"index\": 294, \"date\": 294, \"total_cases\": 206257.0}, {\"index\": 295, \"date\": 295, \"total_cases\": 206329.0}, {\"index\": 296, \"date\": 296, \"total_cases\": 206364.0}, {\"index\": 297, \"date\": 297, \"total_cases\": 207084.0}, {\"index\": 298, \"date\": 298, \"total_cases\": 208010.0}, {\"index\": 299, \"date\": 299, \"total_cases\": 208828.0}, {\"index\": 300, \"date\": 300, \"total_cases\": 209274.0}, {\"index\": 301, \"date\": 301, \"total_cases\": 209355.0}, {\"index\": 302, \"date\": 302, \"total_cases\": 209758.0}, {\"index\": 303, \"date\": 303, \"total_cases\": 210326.0}, {\"index\": 304, \"date\": 304, \"total_cases\": 211512.0}, {\"index\": 305, \"date\": 305, \"total_cases\": 212512.0}, {\"index\": 306, \"date\": 306, \"total_cases\": 213378.0}, {\"index\": 307, \"date\": 307, \"total_cases\": 214513.0}, {\"index\": 308, \"date\": 308, \"total_cases\": 214614.0}, {\"index\": 309, \"date\": 309, \"total_cases\": 215080.0}, {\"index\": 310, \"date\": 310, \"total_cases\": 216083.0}, {\"index\": 311, \"date\": 311, \"total_cases\": 217377.0}, {\"index\": 312, \"date\": 312, \"total_cases\": 218385.0}, {\"index\": 313, \"date\": 313, \"total_cases\": 219148.0}, {\"index\": 314, \"date\": 314, \"total_cases\": 220349.0}, {\"index\": 315, \"date\": 315, \"total_cases\": 221070.0}, {\"index\": 316, \"date\": 316, \"total_cases\": 221506.0}, {\"index\": 317, \"date\": 317, \"total_cases\": 222567.0}, {\"index\": 318, \"date\": 318, \"total_cases\": 224315.0}, {\"index\": 319, \"date\": 319, \"total_cases\": 226002.0}, {\"index\": 320, \"date\": 320, \"total_cases\": 226866.0}, {\"index\": 321, \"date\": 321, \"total_cases\": 230808.0}, {\"index\": 322, \"date\": 322, \"total_cases\": 231482.0}, {\"index\": 323, \"date\": 323, \"total_cases\": 231644.0}, {\"index\": 324, \"date\": 324, \"total_cases\": 232568.0}, {\"index\": 325, \"date\": 325, \"total_cases\": 234315.0}, {\"index\": 326, \"date\": 326, \"total_cases\": 236189.0}, {\"index\": 327, \"date\": 327, \"total_cases\": 237158.0}, {\"index\": 328, \"date\": 328, \"total_cases\": 238232.0}, {\"index\": 329, \"date\": 329, \"total_cases\": 241292.0}, {\"index\": 330, \"date\": 330, \"total_cases\": 241567.0}, {\"index\": 331, \"date\": 331, \"total_cases\": 242146.0}, {\"index\": 332, \"date\": 332, \"total_cases\": 243535.0}, {\"index\": 333, \"date\": 333, \"total_cases\": 246000.0}, {\"index\": 334, \"date\": 334, \"total_cases\": 246687.0}, {\"index\": 335, \"date\": 335, \"total_cases\": 249779.0}, {\"index\": 336, \"date\": 336, \"total_cases\": 250828.0}, {\"index\": 337, \"date\": 337, \"total_cases\": 250986.0}, {\"index\": 338, \"date\": 338, \"total_cases\": 251279.0}, {\"index\": 339, \"date\": 339, \"total_cases\": 252390.0}, {\"index\": 340, \"date\": 340, \"total_cases\": 253339.0}, {\"index\": 341, \"date\": 341, \"total_cases\": 255412.0}, {\"index\": 342, \"date\": 342, \"total_cases\": 257115.0}, {\"index\": 343, \"date\": 343, \"total_cases\": 258282.0}, {\"index\": 344, \"date\": 344, \"total_cases\": 258607.0}, {\"index\": 345, \"date\": 345, \"total_cases\": 259783.0}, {\"index\": 346, \"date\": 346, \"total_cases\": 260076.0}, {\"index\": 347, \"date\": 347, \"total_cases\": 262213.0}, {\"index\": 348, \"date\": 348, \"total_cases\": 263517.0}, {\"index\": 349, \"date\": 349, \"total_cases\": 265527.0}, {\"index\": 350, \"date\": 350, \"total_cases\": 267223.0}, {\"index\": 351, \"date\": 351, \"total_cases\": 267701.0}, {\"index\": 352, \"date\": 352, \"total_cases\": 268073.0}, {\"index\": 353, \"date\": 353, \"total_cases\": 268219.0}, {\"index\": 354, \"date\": 354, \"total_cases\": 269860.0}, {\"index\": 355, \"date\": 355, \"total_cases\": 271276.0}, {\"index\": 356, \"date\": 356, \"total_cases\": 273097.0}, {\"index\": 357, \"date\": 357, \"total_cases\": 274673.0}, {\"index\": 358, \"date\": 358, \"total_cases\": 274968.0}, {\"index\": 359, \"date\": 359, \"total_cases\": 275780.0}, {\"index\": 360, \"date\": 360, \"total_cases\": 278779.0}, {\"index\": 361, \"date\": 361, \"total_cases\": 281169.0}, {\"index\": 362, \"date\": 362, \"total_cases\": 282599.0}, {\"index\": 363, \"date\": 363, \"total_cases\": 284347.0}, {\"index\": 364, \"date\": 364, \"total_cases\": 286155.0}, {\"index\": 365, \"date\": 365, \"total_cases\": 286367.0}, {\"index\": 366, \"date\": 366, \"total_cases\": 286725.0}, {\"index\": 367, \"date\": 367, \"total_cases\": 289472.0}, {\"index\": 368, \"date\": 368, \"total_cases\": 289735.0}, {\"index\": 369, \"date\": 369, \"total_cases\": 291070.0}, {\"index\": 370, \"date\": 370, \"total_cases\": 292943.0}, {\"index\": 371, \"date\": 371, \"total_cases\": 294503.0}, {\"index\": 372, \"date\": 372, \"total_cases\": 294618.0}, {\"index\": 373, \"date\": 373, \"total_cases\": 295114.0}, {\"index\": 374, \"date\": 374, \"total_cases\": 296841.0}, {\"index\": 375, \"date\": 375, \"total_cases\": 297957.0}, {\"index\": 376, \"date\": 376, \"total_cases\": 299216.0}, {\"index\": 377, \"date\": 377, \"total_cases\": 300666.0}, {\"index\": 378, \"date\": 378, \"total_cases\": 302221.0}, {\"index\": 379, \"date\": 379, \"total_cases\": 302498.0}, {\"index\": 380, \"date\": 380, \"total_cases\": 302854.0}, {\"index\": 381, \"date\": 381, \"total_cases\": 305598.0}, {\"index\": 382, \"date\": 382, \"total_cases\": 307429.0}, {\"index\": 383, \"date\": 383, \"total_cases\": 309643.0}, {\"index\": 384, \"date\": 384, \"total_cases\": 310868.0}, {\"index\": 385, \"date\": 385, \"total_cases\": 312598.0}, {\"index\": 386, \"date\": 386, \"total_cases\": 312851.0}, {\"index\": 387, \"date\": 387, \"total_cases\": 313570.0}, {\"index\": 388, \"date\": 388, \"total_cases\": 316807.0}, {\"index\": 389, \"date\": 389, \"total_cases\": 318656.0}, {\"index\": 390, \"date\": 390, \"total_cases\": 321451.0}, {\"index\": 391, \"date\": 391, \"total_cases\": 322699.0}, {\"index\": 392, \"date\": 392, \"total_cases\": 324482.0}, {\"index\": 393, \"date\": 393, \"total_cases\": 325124.0}, {\"index\": 394, \"date\": 394, \"total_cases\": 327325.0}, {\"index\": 395, \"date\": 395, \"total_cases\": 328755.0}, {\"index\": 396, \"date\": 396, \"total_cases\": 330388.0}, {\"index\": 397, \"date\": 397, \"total_cases\": 332038.0}, {\"index\": 398, \"date\": 398, \"total_cases\": 333175.0}, {\"index\": 399, \"date\": 399, \"total_cases\": 335681.0}, {\"index\": 400, \"date\": 400, \"total_cases\": 336777.0}, {\"index\": 401, \"date\": 401, \"total_cases\": 337702.0}, {\"index\": 402, \"date\": 402, \"total_cases\": 339604.0}, {\"index\": 403, \"date\": 403, \"total_cases\": 341619.0}, {\"index\": 404, \"date\": 404, \"total_cases\": 342678.0}, {\"index\": 405, \"date\": 405, \"total_cases\": 344877.0}, {\"index\": 406, \"date\": 406, \"total_cases\": 346817.0}, {\"index\": 407, \"date\": 407, \"total_cases\": 347070.0}, {\"index\": 408, \"date\": 408, \"total_cases\": 347589.0}, {\"index\": 409, \"date\": 409, \"total_cases\": 350539.0}, {\"index\": 410, \"date\": 410, \"total_cases\": 355431.0}, {\"index\": 411, \"date\": 411, \"total_cases\": 355964.0}, {\"index\": 412, \"date\": 412, \"total_cases\": 358157.0}, {\"index\": 413, \"date\": 413, \"total_cases\": 360546.0}, {\"index\": 414, \"date\": 414, \"total_cases\": 360563.0}, {\"index\": 415, \"date\": 415, \"total_cases\": 361154.0}, {\"index\": 416, \"date\": 416, \"total_cases\": 362843.0}, {\"index\": 417, \"date\": 417, \"total_cases\": 365393.0}, {\"index\": 418, \"date\": 418, \"total_cases\": 371306.0}, {\"index\": 419, \"date\": 419, \"total_cases\": 372754.0}, {\"index\": 420, \"date\": 420, \"total_cases\": 373362.0}, {\"index\": 421, \"date\": 421, \"total_cases\": 374775.0}, {\"index\": 422, \"date\": 422, \"total_cases\": 375329.0}, {\"index\": 423, \"date\": 423, \"total_cases\": 377662.0}, {\"index\": 424, \"date\": 424, \"total_cases\": 380689.0}, {\"index\": 425, \"date\": 425, \"total_cases\": 381862.0}]}}, {\"mode\": \"vega-lite\"});\n",
       "</script>"
      ],
      "text/plain": [
       "alt.Chart(...)"
      ]
     },
     "execution_count": 388,
     "metadata": {},
     "output_type": "execute_result"
    }
   ],
   "source": [
    "df.reset_index(inplace=True)\n",
    "img= alt.Chart(df).mark_line().encode(\n",
    "x=alt.X('date'),\n",
    "y=alt.Y('total_cases'),\n",
    "tooltip=['date', 'total_cases'],\n",
    "color=alt.condition( alt.datum.total == 1200000,alt.value('green'),alt.value('green')),\n",
    "column=alt.Column('month(arrived_at)',title='Casos Covid desde 01/03/2020'))\n",
    "img"
   ]
  },
  {
   "cell_type": "code",
   "execution_count": 389,
   "id": "ccd1ec31",
   "metadata": {},
   "outputs": [],
   "source": [
    "x = list(df.iloc [:, 1]) \n",
    "y = list(df.iloc [:, 2])\n",
    "\n"
   ]
  },
  {
   "cell_type": "markdown",
   "id": "9a2c4b49",
   "metadata": {},
   "source": [
    "## Regresión Lineal"
   ]
  },
  {
   "cell_type": "code",
   "execution_count": 390,
   "id": "321ad846",
   "metadata": {},
   "outputs": [
    {
     "data": {
      "text/plain": [
       "LinearRegression()"
      ]
     },
     "execution_count": 390,
     "metadata": {},
     "output_type": "execute_result"
    }
   ],
   "source": [
    "#Nuestra Regresión Lineal\n",
    "lineal = linear_model.LinearRegression()\n",
    " \n",
    "# Entrenamos el modelo\n",
    "lineal.fit(np.array(x).reshape(-1, 1) ,y)"
   ]
  },
  {
   "cell_type": "code",
   "execution_count": 391,
   "id": "02b86bf9",
   "metadata": {},
   "outputs": [
    {
     "name": "stdout",
     "output_type": "stream",
     "text": [
      "334050 NUMERO DE CASOS TOTALES AL 30/04/2021\n"
     ]
    }
   ],
   "source": [
    "prediction = lineal.predict([[425]])\n",
    "print(int(prediction )  ,\"NUMERO DE CASOS TOTALES AL 30/04/2021\")"
   ]
  },
  {
   "cell_type": "code",
   "execution_count": 392,
   "id": "72399629",
   "metadata": {},
   "outputs": [
    {
     "data": {
      "image/png": "[encoded data removed]",
      "text/plain": [
       "<Figure size 432x288 with 1 Axes>"
      ]
     },
     "metadata": {
      "needs_background": "light"
     },
     "output_type": "display_data"
    }
   ],
   "source": [
    "#Graficar\n",
    "plt.scatter(x, y)\n",
    "line = np.array(range(min(x), max(x)+100) )\n",
    "plt.plot(x_real, lineal.predict(line.reshape(-1, 1)), color='green' , label='Prediccion')\n",
    "plt.xlabel('DIAS' ,family='serif', \n",
    "           color='r', \n",
    "           weight='normal', \n",
    "           size = 12,\n",
    "           labelpad = 6)\n",
    "plt.ylabel('CASOS',family='serif', \n",
    "           color='r', \n",
    "           weight='normal', \n",
    "           size = 12,\n",
    "           labelpad = 6)\n",
    "plt.legend()\n",
    "plt.show()"
   ]
  },
  {
   "cell_type": "markdown",
   "id": "cc51a71c",
   "metadata": {},
   "source": [
    "## Regresión Polinomial"
   ]
  },
  {
   "cell_type": "code",
   "execution_count": 393,
   "id": "60d2c14c",
   "metadata": {},
   "outputs": [
    {
     "data": {
      "text/plain": [
       "LinearRegression()"
      ]
     },
     "execution_count": 393,
     "metadata": {},
     "output_type": "execute_result"
    }
   ],
   "source": [
    "p = PolynomialFeatures(degree = 8)\n",
    "polinomX = p.fit_transform(np.array(x).reshape(-1, 1))\n",
    "lin = linear_model.LinearRegression()\n",
    "lin.fit(polinomX, y)"
   ]
  },
  {
   "cell_type": "code",
   "execution_count": 394,
   "id": "fdadb447",
   "metadata": {},
   "outputs": [
    {
     "name": "stdout",
     "output_type": "stream",
     "text": [
      "387291 NUMERO DE CASOS TOTALES AL 30/04/2021\n"
     ]
    }
   ],
   "source": [
    "prediction = lin.predict(p.fit_transform([[425]]))\n",
    "print(int(prediction )  ,\"NUMERO DE CASOS TOTALES AL 30/04/2021\")"
   ]
  },
  {
   "cell_type": "code",
   "execution_count": 395,
   "id": "750d1f3d",
   "metadata": {},
   "outputs": [
    {
     "data": {
      "image/png": "[encoded data removed]",
      "text/plain": [
       "<Figure size 432x288 with 1 Axes>"
      ]
     },
     "metadata": {
      "needs_background": "light"
     },
     "output_type": "display_data"
    }
   ],
   "source": [
    "plt.scatter(x, y)\n",
    "datos = np.array(range(min(x), max(x)+100))\n",
    "plt.plot(x_real, lin.predict(p.fit_transform(datos.reshape(-1, 1))), color='green', label='Prediccion')\n",
    "plt.xlabel('DIAS' ,family='serif', \n",
    "           color='r', \n",
    "           weight='normal', \n",
    "           size = 12,\n",
    "           labelpad = 6)\n",
    "plt.ylabel('CASOS',family='serif', \n",
    "           color='r', \n",
    "           weight='normal', \n",
    "           size = 12,\n",
    "           labelpad = 6)\n",
    "plt.legend()\n",
    "plt.show()"
   ]
  }
 ],
 "metadata": {
  "kernelspec": {
   "display_name": "Python 3",
   "language": "python",
   "name": "python3"
  },
  "language_info": {
   "codemirror_mode": {
    "name": "ipython",
    "version": 3
   },
   "file_extension": ".py",
   "mimetype": "text/x-python",
   "name": "python",
   "nbconvert_exporter": "python",
   "pygments_lexer": "ipython3",
   "version": "3.8.5"
  }
 },
 "nbformat": 4,
 "nbformat_minor": 5
}
