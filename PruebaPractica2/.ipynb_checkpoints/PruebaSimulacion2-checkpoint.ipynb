{
 "cells": [
  {
   "cell_type": "code",
   "execution_count": 134,
   "metadata": {},
   "outputs": [
    {
     "name": "stdout",
     "output_type": "stream",
     "text": [
      "Requirement already satisfied: simpy in c:\\users\\fvasq\\anaconda3\\lib\\site-packages (4.0.1)\n"
     ]
    }
   ],
   "source": [
    "!pip install simpy"
   ]
  },
  {
   "cell_type": "markdown",
   "metadata": {},
   "source": [
    "## PRUEBA DE SIMULACIÓN SEGUNDO INTERCICLO\n",
    "### VÁSQUEZ FAJARDO FRANKLIN JOEL\n",
    "#### SIMULACIÓN"
   ]
  },
  {
   "cell_type": "markdown",
   "metadata": {},
   "source": [
    "#### El golpe económico de la crisis sanitaria del corona virus no va a ser cosa de semanas, sino de meses. Dentro de una de las etapas importantes posteriores a las elecciones presidenciales son la re activación de los pequeños comercios y/o centros educativos. Para ello se plantea realizar  un modelo de simulación de eventos discretos que permita determinar cual son los principales factores para la re activación económica en el ingreso a las aulas de los estudiantes"
   ]
  },
  {
   "cell_type": "markdown",
   "metadata": {},
   "source": [
    "### Obtener los siguientes análisis:\n",
    "•\tCuantos contagiados tengo al final del mes.\n",
    "\n",
    "•\tCuantos cursos debo cerrar.\n",
    "\n",
    "•\tCuantos estudiantes y docentes ingresan y salen al final del mes.\n",
    "\n",
    "▪\tConclusiones\n",
    "\n",
    "▪\tRecomendaciones.\n"
   ]
  },
  {
   "cell_type": "markdown",
   "metadata": {},
   "source": [
    "### Conclusión"
   ]
  },
  {
   "cell_type": "markdown",
   "metadata": {},
   "source": [
    "Durante el desarrollo de la practica se pudo simular el regreso moderado de los alumnos a clases, esto como el nuevo plan de gobierno , durante el cual podemos ver resultados no tan alentadores ya que al komentod e realizar la simulación nos pudimos dar cuenta que el retorno masivo puede ocasionar mayor contagios y a us vez que se cierren mas aulas."
   ]
  },
  {
   "cell_type": "markdown",
   "metadata": {},
   "source": [
    "### Recomendación"
   ]
  },
  {
   "cell_type": "markdown",
   "metadata": {},
   "source": [
    "Se recomienda tener en cuenta esto al momento de realizar el retorno a clases, ya que mediante estos medios de simulación de eventos podemos evitar que los contagios sigan y sigan avanzando."
   ]
  },
  {
   "cell_type": "code",
   "execution_count": 265,
   "metadata": {},
   "outputs": [
    {
     "name": "stdout",
     "output_type": "stream",
     "text": [
      "LIBRERIAS IMPORTADAS\n"
     ]
    }
   ],
   "source": [
    "import simpy\n",
    "import random\n",
    "import matplotlib.pyplot as pp\n",
    "print('LIBRERIAS IMPORTADAS')"
   ]
  },
  {
   "cell_type": "code",
   "execution_count": 275,
   "metadata": {},
   "outputs": [],
   "source": [
    "inicio = 10\n",
    "tiempo_simulacion = 360000 \n",
    "estudiantes=250\n",
    "docentes=30\n",
    "cursos=40\n",
    "dias=0"
   ]
  },
  {
   "cell_type": "code",
   "execution_count": 276,
   "metadata": {},
   "outputs": [],
   "source": [
    "alumnos = {}\n",
    "def dato():\n",
    "    for i in range(estudiantes):\n",
    "        alumnos[i+1] = 'almn_{}'.format(i+1),random.randint(1,cursos)\n",
    "    return alumnos"
   ]
  },
  {
   "cell_type": "code",
   "execution_count": 277,
   "metadata": {},
   "outputs": [],
   "source": [
    "class prueba():\n",
    "    def __init__(self,entorno):\n",
    "        self.env = entorno\n",
    "\n",
    "    def llega(self,tiempo):\n",
    "        yield self.env.timeout(tiempo)\n",
    "\n",
    "    def primera(self,tiempo):\n",
    "        yield self.env.timeout(tiempo)\n",
    "\n",
    "    def descanso(self,tiempo):\n",
    "        yield self.env.timeout(tiempo)\n",
    "\n",
    "    def segunda(self,tiempo):\n",
    "        yield self.env.timeout(tiempo)\n",
    "\n",
    "    def salir(self,tiempo):\n",
    "        yield self.env.timeout(tiempo)\n",
    "        \n",
    "        \n",
    "    def covid(self,listado):\n",
    "        estudiantes_pcr = []\n",
    "        for i in range(int(len(listado.keys()))):\n",
    "            if((random.randint(1,100))<=14):\n",
    "                estudiantes_pcr.append(i)\n",
    "        return estudiantes_pcr\n",
    "\n",
    "\n",
    "    def cls(self,persona):\n",
    "        \n",
    "        llega = random.uniform(0.016,0.032)\n",
    "        yield self.env.process(self.llega(llega))            \n",
    "      \n",
    "        prim = 3 \n",
    "        yield self.env.process(self.primera(prim))\n",
    "        \n",
    "        desc = 0.5\n",
    "        yield self.env.process(self.descanso(desc))\n",
    "        \n",
    "        segu = 2.5 \n",
    "        yield self.env.process(self.segunda(segu))\n",
    "        \n",
    "        salir = 18\n",
    "        yield self.env.process(self.salir(salir))\n",
    "            "
   ]
  },
  {
   "cell_type": "code",
   "execution_count": 278,
   "metadata": {},
   "outputs": [],
   "source": [
    "casos = []\n",
    "contagiadosNuevo = []\n",
    "caso = []\n",
    "class Simulacion():\n",
    "    def sim(self,env,listadoEstudiantes):\n",
    "        proceso = procesoClases(env)\n",
    "        if dias < 31:\n",
    "            print('Asisten {} estudiantes a clases'.format(len(listadoEstudiantes)))\n",
    "            for i in listadoEstudiantes.items():\n",
    "                yield env.process(proceso.clases(i))\n",
    "        else:\n",
    "            contagiadosNuevo = proceso.covid(listadoEstudiantes)\n",
    "            caso.append(len(contagiadosNuevo))\n",
    "            for i in range(len(contagiadosNuevo)):\n",
    "                for j in range(int(len(listadoEstudiantes.keys()))):\n",
    "                    if(contagiadosNuevo[i]==j):\n",
    "                        casos.append(listadoEstudiantes.get(j)[1])"
   ]
  },
  {
   "cell_type": "code",
   "execution_count": 279,
   "metadata": {},
   "outputs": [
    {
     "name": "stdout",
     "output_type": "stream",
     "text": [
      "Dia de clases : 0 \n",
      "Asisten 250 estudiantes a clases\n",
      "Dia de clases : 1 \n",
      "Asisten 250 estudiantes a clases\n",
      "Dia de clases : 2 \n",
      "Asisten 250 estudiantes a clases\n",
      "Dia de clases : 3 \n",
      "Asisten 250 estudiantes a clases\n",
      "Dia de clases : 4 \n",
      "Asisten 250 estudiantes a clases\n",
      "Dia de clases : 5 \n",
      "Asisten 250 estudiantes a clases\n",
      "Dia de clases : 6 \n",
      "Asisten 250 estudiantes a clases\n",
      "Dia de clases : 7 \n",
      "Asisten 250 estudiantes a clases\n",
      "Dia de clases : 8 \n",
      "Asisten 250 estudiantes a clases\n",
      "Dia de clases : 9 \n",
      "Asisten 250 estudiantes a clases\n",
      "Dia de clases : 10 \n",
      "Asisten 250 estudiantes a clases\n",
      "Dia de clases : 11 \n",
      "Asisten 250 estudiantes a clases\n",
      "Dia de clases : 12 \n",
      "Asisten 250 estudiantes a clases\n",
      "Dia de clases : 13 \n",
      "Asisten 250 estudiantes a clases\n",
      "Dia de clases : 14 \n",
      "Asisten 250 estudiantes a clases\n",
      "Dia de clases : 15 \n",
      "Asisten 250 estudiantes a clases\n",
      "Dia de clases : 16 \n",
      "Asisten 250 estudiantes a clases\n",
      "Dia de clases : 17 \n",
      "Asisten 250 estudiantes a clases\n",
      "Dia de clases : 18 \n",
      "Asisten 250 estudiantes a clases\n",
      "Dia de clases : 19 \n",
      "Asisten 250 estudiantes a clases\n",
      "Dia de clases : 20 \n",
      "Asisten 250 estudiantes a clases\n",
      "Dia de clases : 21 \n",
      "Asisten 250 estudiantes a clases\n",
      "Dia de clases : 22 \n",
      "Asisten 250 estudiantes a clases\n",
      "Dia de clases : 23 \n",
      "Asisten 250 estudiantes a clases\n",
      "Dia de clases : 24 \n",
      "Asisten 250 estudiantes a clases\n",
      "Dia de clases : 25 \n",
      "Asisten 250 estudiantes a clases\n",
      "Dia de clases : 26 \n",
      "Asisten 250 estudiantes a clases\n",
      "Dia de clases : 27 \n",
      "Asisten 250 estudiantes a clases\n",
      "Dia de clases : 28 \n",
      "Asisten 250 estudiantes a clases\n",
      "Dia de clases : 29 \n",
      "Asisten 250 estudiantes a clases\n",
      "Dia de clases : 30 \n",
      "Asisten 250 estudiantes a clases\n",
      "Dia de clases : 31 \n"
     ]
    }
   ],
   "source": [
    "for i in range(32):\n",
    "    print('Dia de clases : {} '.format(i))\n",
    "    env = simpy.Environment()\n",
    "    simulacion = Simulacion()\n",
    "    env.process(simulacion.sim(env,dato()))\n",
    "    env.run(until=tiempo_simulacion)\n",
    "    dias+=1"
   ]
  },
  {
   "cell_type": "code",
   "execution_count": 280,
   "metadata": {},
   "outputs": [
    {
     "name": "stdout",
     "output_type": "stream",
     "text": [
      "Personas:\n",
      "280\n"
     ]
    }
   ],
   "source": [
    "print('Personas:')\n",
    "print(estudiantes+docentes)"
   ]
  },
  {
   "cell_type": "code",
   "execution_count": 281,
   "metadata": {},
   "outputs": [
    {
     "name": "stdout",
     "output_type": "stream",
     "text": [
      "Total de Contagiados:\n",
      "[36]\n"
     ]
    }
   ],
   "source": [
    "print('Total de Contagiados:')\n",
    "print(caso)"
   ]
  },
  {
   "cell_type": "code",
   "execution_count": 282,
   "metadata": {},
   "outputs": [
    {
     "name": "stdout",
     "output_type": "stream",
     "text": [
      "Cursos Contagiados:\n",
      "{1, 3, 6, 7, 12, 13, 14, 16, 17, 20, 23, 24, 25, 26, 27, 28, 29, 30, 31, 34, 38, 40}\n"
     ]
    }
   ],
   "source": [
    "print('Cursos Contagiados:')\n",
    "print(set(casos))"
   ]
  },
  {
   "cell_type": "code",
   "execution_count": 283,
   "metadata": {},
   "outputs": [
    {
     "data": {
      "image/png": "[encoded data removed]",
      "text/plain": [
       "<Figure size 864x360 with 1 Axes>"
      ]
     },
     "metadata": {
      "needs_background": "light"
     },
     "output_type": "display_data"
    }
   ],
   "source": [
    "\n",
    "langs = ['Cursos', ' Cerrados']\n",
    "curso = [cursos,len(cerrar)]\n",
    "ax.plot(langs,curso)\n",
    "fig, axes = pp.subplots(figsize=(12,5))\n",
    "axes.plot(langs, curso, 'r')\n",
    "axes.set_xlabel('x')\n",
    "axes.set_ylabel('y')\n",
    "axes.set_title('title');"
   ]
  }
 ],
 "metadata": {
  "kernelspec": {
   "display_name": "Python 3",
   "language": "python",
   "name": "python3"
  },
  "language_info": {
   "codemirror_mode": {
    "name": "ipython",
    "version": 3
   },
   "file_extension": ".py",
   "mimetype": "text/x-python",
   "name": "python",
   "nbconvert_exporter": "python",
   "pygments_lexer": "ipython3",
   "version": "3.8.5"
  }
 },
 "nbformat": 4,
 "nbformat_minor": 4
}
